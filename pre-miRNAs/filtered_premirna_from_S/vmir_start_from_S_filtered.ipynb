{
 "cells": [
  {
   "cell_type": "code",
   "execution_count": 36,
   "metadata": {},
   "outputs": [],
   "source": [
    "import glob \n",
    "sequences_vmir = []\n",
    "for name in glob.glob('/home/moriarty/Desktop/bioinfproject/ViennaRNA-2.4.18/interfaces/Python3/VMir_hairpins/*'):\n",
    "    f = open(name)\n",
    "    k = f.readlines()\n",
    "    sequences_vmir.append(k[10].split())"
   ]
  },
  {
   "cell_type": "code",
   "execution_count": 37,
   "metadata": {},
   "outputs": [],
   "source": [
    "import RNA"
   ]
  },
  {
   "cell_type": "code",
   "execution_count": 38,
   "metadata": {},
   "outputs": [
    {
     "data": {
      "text/plain": [
       "[['ATGCGGAATTATATAGGACAGAATAATCAGCAACACAGTTGCTGATTCTCTTCCTGTTCCAAGCAT'],\n",
       " ['TGTGGGTATGGCAATAGAGTTATTAGAGTAAGCAACTGAATTTTCTGCACCAAGTGACATAGTGTAGGCAATGATGGATTGACTAGCTACACTACGTGCCCGCCGAGGAGAATTAGTCTGAGTCTGATAACTAGCGCATATACCTGCA'],\n",
       " ['ATTGTGTGAATTTGGACATGTTCTTCAGGCTCATCAACAATTTTATTGTAGATGAAGAAGGTAACATGTTCAACACCAGT'],\n",
       " ['GTTTTAATTATGCTTATTATCTTTTGGTTCTCACTTGAACTGCAAGATCATAATGAAAC'],\n",
       " ['GGAAGTTCAAGAACTTTACTCTCCAATTTTTCTTATTGTTGCGGCAATAGTGTTTATAACACTTTGCTTCACACTCAAAAGAAAGACAGAATGATTGAACTTTC'],\n",
       " ['TAATATCTCTGCTATAGTAACCTGAAAGTCAACGAGATGAAACATCTGTTGTCACTTACTGTACAAGCAAAGCAATATTG'],\n",
       " ['CAACTGAAATCTATCAGGCCGGTAGCACACCTTGTAATGGTGTTGAAGGTTTTAATTG'],\n",
       " ['GAATTCATTCTGCACAAGAGTAGACTATATATCGTAAACGGAAAAGCGAAAACGTTTATATAGCCCATCTGCCTTGTGTGGTCTGCATGAGTTT'],\n",
       " ['GGTTTTATAGCTGGCTTGATTGCCATAGTAATGGTGACAATTATGCTTTGCTGTATGACC'],\n",
       " ['TTGAACATGTTACCTTCTTCATCTACAATAAAATTGTTGATGAGCCTGAAGAACATGTCCAA'],\n",
       " ['GGCAACTAGCACTCTCCAAGGGTGTTCACTTTGTTTGCAACTTGCTGTTGTTGTTTGTAACAGTTTACTCACACCTTTTGCTCGTTGCT'],\n",
       " ['TGCCATTTGTCATGATGGAAAAGCACACTTTCCTCGTGAAGGTGTCTTTGTTTCAAATGGCA'],\n",
       " ['GCTGTGACATCAAGGACCTGCCTAAAGAAATCACTGTTGCTACATCACGAACGCTTTCTTATTACAAATTGGGAGCTTCGCAGCGTGTAGCAGGTGACTCAGGTTTTGCTGCATACAGT'],\n",
       " ['ACCGCTTCTAGAAAGTGAACTCGTAATCGGAGCTGTGATCCTTCGTGGACATCTTCGTATTGCTGGACACCATCTAGGACGCTGT']]"
      ]
     },
     "execution_count": 38,
     "metadata": {},
     "output_type": "execute_result"
    }
   ],
   "source": [
    "sequences_vmir "
   ]
  },
  {
   "cell_type": "code",
   "execution_count": 39,
   "metadata": {},
   "outputs": [
    {
     "data": {
      "text/html": [
       "<div>\n",
       "<style scoped>\n",
       "    .dataframe tbody tr th:only-of-type {\n",
       "        vertical-align: middle;\n",
       "    }\n",
       "\n",
       "    .dataframe tbody tr th {\n",
       "        vertical-align: top;\n",
       "    }\n",
       "\n",
       "    .dataframe thead th {\n",
       "        text-align: right;\n",
       "    }\n",
       "</style>\n",
       "<table border=\"1\" class=\"dataframe\">\n",
       "  <thead>\n",
       "    <tr style=\"text-align: right;\">\n",
       "      <th></th>\n",
       "      <th>sequence</th>\n",
       "    </tr>\n",
       "  </thead>\n",
       "  <tbody>\n",
       "    <tr>\n",
       "      <th>0</th>\n",
       "      <td>ATGCGGAATTATATAGGACAGAATAATCAGCAACACAGTTGCTGAT...</td>\n",
       "    </tr>\n",
       "    <tr>\n",
       "      <th>1</th>\n",
       "      <td>TGTGGGTATGGCAATAGAGTTATTAGAGTAAGCAACTGAATTTTCT...</td>\n",
       "    </tr>\n",
       "    <tr>\n",
       "      <th>2</th>\n",
       "      <td>ATTGTGTGAATTTGGACATGTTCTTCAGGCTCATCAACAATTTTAT...</td>\n",
       "    </tr>\n",
       "    <tr>\n",
       "      <th>3</th>\n",
       "      <td>GTTTTAATTATGCTTATTATCTTTTGGTTCTCACTTGAACTGCAAG...</td>\n",
       "    </tr>\n",
       "    <tr>\n",
       "      <th>4</th>\n",
       "      <td>GGAAGTTCAAGAACTTTACTCTCCAATTTTTCTTATTGTTGCGGCA...</td>\n",
       "    </tr>\n",
       "    <tr>\n",
       "      <th>5</th>\n",
       "      <td>TAATATCTCTGCTATAGTAACCTGAAAGTCAACGAGATGAAACATC...</td>\n",
       "    </tr>\n",
       "    <tr>\n",
       "      <th>6</th>\n",
       "      <td>CAACTGAAATCTATCAGGCCGGTAGCACACCTTGTAATGGTGTTGA...</td>\n",
       "    </tr>\n",
       "    <tr>\n",
       "      <th>7</th>\n",
       "      <td>GAATTCATTCTGCACAAGAGTAGACTATATATCGTAAACGGAAAAG...</td>\n",
       "    </tr>\n",
       "    <tr>\n",
       "      <th>8</th>\n",
       "      <td>GGTTTTATAGCTGGCTTGATTGCCATAGTAATGGTGACAATTATGC...</td>\n",
       "    </tr>\n",
       "    <tr>\n",
       "      <th>9</th>\n",
       "      <td>TTGAACATGTTACCTTCTTCATCTACAATAAAATTGTTGATGAGCC...</td>\n",
       "    </tr>\n",
       "    <tr>\n",
       "      <th>10</th>\n",
       "      <td>GGCAACTAGCACTCTCCAAGGGTGTTCACTTTGTTTGCAACTTGCT...</td>\n",
       "    </tr>\n",
       "    <tr>\n",
       "      <th>11</th>\n",
       "      <td>TGCCATTTGTCATGATGGAAAAGCACACTTTCCTCGTGAAGGTGTC...</td>\n",
       "    </tr>\n",
       "    <tr>\n",
       "      <th>12</th>\n",
       "      <td>GCTGTGACATCAAGGACCTGCCTAAAGAAATCACTGTTGCTACATC...</td>\n",
       "    </tr>\n",
       "    <tr>\n",
       "      <th>13</th>\n",
       "      <td>ACCGCTTCTAGAAAGTGAACTCGTAATCGGAGCTGTGATCCTTCGT...</td>\n",
       "    </tr>\n",
       "  </tbody>\n",
       "</table>\n",
       "</div>"
      ],
      "text/plain": [
       "                                             sequence\n",
       "0   ATGCGGAATTATATAGGACAGAATAATCAGCAACACAGTTGCTGAT...\n",
       "1   TGTGGGTATGGCAATAGAGTTATTAGAGTAAGCAACTGAATTTTCT...\n",
       "2   ATTGTGTGAATTTGGACATGTTCTTCAGGCTCATCAACAATTTTAT...\n",
       "3   GTTTTAATTATGCTTATTATCTTTTGGTTCTCACTTGAACTGCAAG...\n",
       "4   GGAAGTTCAAGAACTTTACTCTCCAATTTTTCTTATTGTTGCGGCA...\n",
       "5   TAATATCTCTGCTATAGTAACCTGAAAGTCAACGAGATGAAACATC...\n",
       "6   CAACTGAAATCTATCAGGCCGGTAGCACACCTTGTAATGGTGTTGA...\n",
       "7   GAATTCATTCTGCACAAGAGTAGACTATATATCGTAAACGGAAAAG...\n",
       "8   GGTTTTATAGCTGGCTTGATTGCCATAGTAATGGTGACAATTATGC...\n",
       "9   TTGAACATGTTACCTTCTTCATCTACAATAAAATTGTTGATGAGCC...\n",
       "10  GGCAACTAGCACTCTCCAAGGGTGTTCACTTTGTTTGCAACTTGCT...\n",
       "11  TGCCATTTGTCATGATGGAAAAGCACACTTTCCTCGTGAAGGTGTC...\n",
       "12  GCTGTGACATCAAGGACCTGCCTAAAGAAATCACTGTTGCTACATC...\n",
       "13  ACCGCTTCTAGAAAGTGAACTCGTAATCGGAGCTGTGATCCTTCGT..."
      ]
     },
     "execution_count": 39,
     "metadata": {},
     "output_type": "execute_result"
    }
   ],
   "source": [
    "sequences_vmir = [i[0] for i in sequences_vmir]\n",
    "import pandas as pd \n",
    "\n",
    "df = pd.DataFrame(data = {'sequence': sequences_vmir})\n",
    "df"
   ]
  },
  {
   "cell_type": "code",
   "execution_count": 40,
   "metadata": {},
   "outputs": [
    {
     "data": {
      "text/html": [
       "<div>\n",
       "<style scoped>\n",
       "    .dataframe tbody tr th:only-of-type {\n",
       "        vertical-align: middle;\n",
       "    }\n",
       "\n",
       "    .dataframe tbody tr th {\n",
       "        vertical-align: top;\n",
       "    }\n",
       "\n",
       "    .dataframe thead th {\n",
       "        text-align: right;\n",
       "    }\n",
       "</style>\n",
       "<table border=\"1\" class=\"dataframe\">\n",
       "  <thead>\n",
       "    <tr style=\"text-align: right;\">\n",
       "      <th></th>\n",
       "      <th>sequence</th>\n",
       "      <th>mfe</th>\n",
       "    </tr>\n",
       "  </thead>\n",
       "  <tbody>\n",
       "    <tr>\n",
       "      <th>0</th>\n",
       "      <td>ATGCGGAATTATATAGGACAGAATAATCAGCAACACAGTTGCTGAT...</td>\n",
       "      <td>-23.900000</td>\n",
       "    </tr>\n",
       "    <tr>\n",
       "      <th>1</th>\n",
       "      <td>TGTGGGTATGGCAATAGAGTTATTAGAGTAAGCAACTGAATTTTCT...</td>\n",
       "      <td>-45.400002</td>\n",
       "    </tr>\n",
       "    <tr>\n",
       "      <th>2</th>\n",
       "      <td>ATTGTGTGAATTTGGACATGTTCTTCAGGCTCATCAACAATTTTAT...</td>\n",
       "      <td>-25.000000</td>\n",
       "    </tr>\n",
       "    <tr>\n",
       "      <th>3</th>\n",
       "      <td>GTTTTAATTATGCTTATTATCTTTTGGTTCTCACTTGAACTGCAAG...</td>\n",
       "      <td>-12.700000</td>\n",
       "    </tr>\n",
       "    <tr>\n",
       "      <th>4</th>\n",
       "      <td>GGAAGTTCAAGAACTTTACTCTCCAATTTTTCTTATTGTTGCGGCA...</td>\n",
       "      <td>-24.700001</td>\n",
       "    </tr>\n",
       "  </tbody>\n",
       "</table>\n",
       "</div>"
      ],
      "text/plain": [
       "                                            sequence        mfe\n",
       "0  ATGCGGAATTATATAGGACAGAATAATCAGCAACACAGTTGCTGAT... -23.900000\n",
       "1  TGTGGGTATGGCAATAGAGTTATTAGAGTAAGCAACTGAATTTTCT... -45.400002\n",
       "2  ATTGTGTGAATTTGGACATGTTCTTCAGGCTCATCAACAATTTTAT... -25.000000\n",
       "3  GTTTTAATTATGCTTATTATCTTTTGGTTCTCACTTGAACTGCAAG... -12.700000\n",
       "4  GGAAGTTCAAGAACTTTACTCTCCAATTTTTCTTATTGTTGCGGCA... -24.700001"
      ]
     },
     "execution_count": 40,
     "metadata": {},
     "output_type": "execute_result"
    }
   ],
   "source": [
    "structure_mfe= df['sequence'].apply(RNA.fold)\n",
    "mfes = [el[1] for el in structure_mfe]\n",
    "df['mfe'] = mfes\n",
    "df.head()"
   ]
  },
  {
   "cell_type": "code",
   "execution_count": 42,
   "metadata": {},
   "outputs": [
    {
     "data": {
      "text/html": [
       "<div>\n",
       "<style scoped>\n",
       "    .dataframe tbody tr th:only-of-type {\n",
       "        vertical-align: middle;\n",
       "    }\n",
       "\n",
       "    .dataframe tbody tr th {\n",
       "        vertical-align: top;\n",
       "    }\n",
       "\n",
       "    .dataframe thead th {\n",
       "        text-align: right;\n",
       "    }\n",
       "</style>\n",
       "<table border=\"1\" class=\"dataframe\">\n",
       "  <thead>\n",
       "    <tr style=\"text-align: right;\">\n",
       "      <th></th>\n",
       "      <th>sequence</th>\n",
       "      <th>mfe</th>\n",
       "      <th>mfeis</th>\n",
       "    </tr>\n",
       "  </thead>\n",
       "  <tbody>\n",
       "    <tr>\n",
       "      <th>0</th>\n",
       "      <td>ATGCGGAATTATATAGGACAGAATAATCAGCAACACAGTTGCTGAT...</td>\n",
       "      <td>-23.900000</td>\n",
       "      <td>-0.919231</td>\n",
       "    </tr>\n",
       "    <tr>\n",
       "      <th>1</th>\n",
       "      <td>TGTGGGTATGGCAATAGAGTTATTAGAGTAAGCAACTGAATTTTCT...</td>\n",
       "      <td>-45.400002</td>\n",
       "      <td>-0.698462</td>\n",
       "    </tr>\n",
       "    <tr>\n",
       "      <th>2</th>\n",
       "      <td>ATTGTGTGAATTTGGACATGTTCTTCAGGCTCATCAACAATTTTAT...</td>\n",
       "      <td>-25.000000</td>\n",
       "      <td>-0.892857</td>\n",
       "    </tr>\n",
       "    <tr>\n",
       "      <th>3</th>\n",
       "      <td>GTTTTAATTATGCTTATTATCTTTTGGTTCTCACTTGAACTGCAAG...</td>\n",
       "      <td>-12.700000</td>\n",
       "      <td>-0.747059</td>\n",
       "    </tr>\n",
       "    <tr>\n",
       "      <th>4</th>\n",
       "      <td>GGAAGTTCAAGAACTTTACTCTCCAATTTTTCTTATTGTTGCGGCA...</td>\n",
       "      <td>-24.700001</td>\n",
       "      <td>-0.705714</td>\n",
       "    </tr>\n",
       "  </tbody>\n",
       "</table>\n",
       "</div>"
      ],
      "text/plain": [
       "                                            sequence        mfe     mfeis\n",
       "0  ATGCGGAATTATATAGGACAGAATAATCAGCAACACAGTTGCTGAT... -23.900000 -0.919231\n",
       "1  TGTGGGTATGGCAATAGAGTTATTAGAGTAAGCAACTGAATTTTCT... -45.400002 -0.698462\n",
       "2  ATTGTGTGAATTTGGACATGTTCTTCAGGCTCATCAACAATTTTAT... -25.000000 -0.892857\n",
       "3  GTTTTAATTATGCTTATTATCTTTTGGTTCTCACTTGAACTGCAAG... -12.700000 -0.747059\n",
       "4  GGAAGTTCAAGAACTTTACTCTCCAATTTTTCTTATTGTTGCGGCA... -24.700001 -0.705714"
      ]
     },
     "execution_count": 42,
     "metadata": {},
     "output_type": "execute_result"
    }
   ],
   "source": [
    "def mfei_calculation(precursor, mfe):\n",
    "    g_and_c = (precursor.count('G')+precursor.count('C'))/len(precursor)\n",
    "    return mfe/len(precursor)/g_and_c\n",
    "df['mfeis'] = df.apply(lambda x: mfei_calculation(x.sequence,x.mfe), axis=1)\n",
    "df.head()"
   ]
  },
  {
   "cell_type": "code",
   "execution_count": 44,
   "metadata": {},
   "outputs": [
    {
     "name": "stdout",
     "output_type": "stream",
     "text": [
      ">test 0\n",
      "AUGCGGAAUUAUAUAGGACAGAAUAAUCAGCAACACAGUUGCUGAUUCUCUUCCUGUUCCAAGCAU\n",
      ">test 1\n",
      "AUUGUGUGAAUUUGGACAUGUUCUUCAGGCUCAUCAACAAUUUUAUUGUAGAUGAAGAAGGUAACAUGUUCAACACCAGU\n",
      ">test 2\n",
      "GGUUUUAUAGCUGGCUUGAUUGCCAUAGUAAUGGUGACAAUUAUGCUUUGCUGUAUGACC\n",
      ">test 3\n",
      "UUGAACAUGUUACCUUCUUCAUCUACAAUAAAAUUGUUGAUGAGCCUGAAGAACAUGUCCAA\n"
     ]
    }
   ],
   "source": [
    "filtered = df[df['mfeis']<-0.85]\n",
    "listik = filtered.sequence.tolist()\n",
    "for seq in range(len(listik)):\n",
    "    listik[seq] = listik[seq].replace('T', 'U')\n",
    "    \n",
    "for line in range(len(listik)):\n",
    "    print('>test', line)\n",
    "    print(listik[line])"
   ]
  },
  {
   "cell_type": "code",
   "execution_count": 45,
   "metadata": {},
   "outputs": [
    {
     "name": "stderr",
     "output_type": "stream",
     "text": [
      "<ipython-input-45-589dbd5b77a5>:2: SettingWithCopyWarning: \n",
      "A value is trying to be set on a copy of a slice from a DataFrame.\n",
      "Try using .loc[row_indexer,col_indexer] = value instead\n",
      "\n",
      "See the caveats in the documentation: https://pandas.pydata.org/pandas-docs/stable/user_guide/indexing.html#returning-a-view-versus-a-copy\n",
      "  filtered['class'] = classes\n"
     ]
    },
    {
     "data": {
      "text/html": [
       "<div>\n",
       "<style scoped>\n",
       "    .dataframe tbody tr th:only-of-type {\n",
       "        vertical-align: middle;\n",
       "    }\n",
       "\n",
       "    .dataframe tbody tr th {\n",
       "        vertical-align: top;\n",
       "    }\n",
       "\n",
       "    .dataframe thead th {\n",
       "        text-align: right;\n",
       "    }\n",
       "</style>\n",
       "<table border=\"1\" class=\"dataframe\">\n",
       "  <thead>\n",
       "    <tr style=\"text-align: right;\">\n",
       "      <th></th>\n",
       "      <th>sequence</th>\n",
       "      <th>mfe</th>\n",
       "      <th>mfeis</th>\n",
       "      <th>class</th>\n",
       "    </tr>\n",
       "  </thead>\n",
       "  <tbody>\n",
       "    <tr>\n",
       "      <th>0</th>\n",
       "      <td>ATGCGGAATTATATAGGACAGAATAATCAGCAACACAGTTGCTGAT...</td>\n",
       "      <td>-23.900000</td>\n",
       "      <td>-0.919231</td>\n",
       "      <td>Real</td>\n",
       "    </tr>\n",
       "    <tr>\n",
       "      <th>2</th>\n",
       "      <td>ATTGTGTGAATTTGGACATGTTCTTCAGGCTCATCAACAATTTTAT...</td>\n",
       "      <td>-25.000000</td>\n",
       "      <td>-0.892857</td>\n",
       "      <td>Real</td>\n",
       "    </tr>\n",
       "    <tr>\n",
       "      <th>8</th>\n",
       "      <td>GGTTTTATAGCTGGCTTGATTGCCATAGTAATGGTGACAATTATGC...</td>\n",
       "      <td>-21.500000</td>\n",
       "      <td>-0.895833</td>\n",
       "      <td>Real</td>\n",
       "    </tr>\n",
       "    <tr>\n",
       "      <th>9</th>\n",
       "      <td>TTGAACATGTTACCTTCTTCATCTACAATAAAATTGTTGATGAGCC...</td>\n",
       "      <td>-18.200001</td>\n",
       "      <td>-0.866667</td>\n",
       "      <td>Pseudo</td>\n",
       "    </tr>\n",
       "  </tbody>\n",
       "</table>\n",
       "</div>"
      ],
      "text/plain": [
       "                                            sequence        mfe     mfeis  \\\n",
       "0  ATGCGGAATTATATAGGACAGAATAATCAGCAACACAGTTGCTGAT... -23.900000 -0.919231   \n",
       "2  ATTGTGTGAATTTGGACATGTTCTTCAGGCTCATCAACAATTTTAT... -25.000000 -0.892857   \n",
       "8  GGTTTTATAGCTGGCTTGATTGCCATAGTAATGGTGACAATTATGC... -21.500000 -0.895833   \n",
       "9  TTGAACATGTTACCTTCTTCATCTACAATAAAATTGTTGATGAGCC... -18.200001 -0.866667   \n",
       "\n",
       "    class  \n",
       "0    Real  \n",
       "2    Real  \n",
       "8    Real  \n",
       "9  Pseudo  "
      ]
     },
     "execution_count": 45,
     "metadata": {},
     "output_type": "execute_result"
    }
   ],
   "source": [
    "classes = ['Real','Real','Real','Pseudo']\n",
    "filtered['class'] = classes\n",
    "filtered"
   ]
  },
  {
   "cell_type": "code",
   "execution_count": 46,
   "metadata": {},
   "outputs": [],
   "source": [
    "filtered.to_csv(r'/home/moriarty/Desktop/bioinfproject/ViennaRNA-2.4.18/interfaces/Python3/vmir_output_from_S_filtered.csv',index=False)"
   ]
  },
  {
   "cell_type": "code",
   "execution_count": null,
   "metadata": {},
   "outputs": [],
   "source": []
  },
  {
   "cell_type": "code",
   "execution_count": null,
   "metadata": {},
   "outputs": [],
   "source": []
  },
  {
   "cell_type": "code",
   "execution_count": null,
   "metadata": {},
   "outputs": [],
   "source": []
  }
 ],
 "metadata": {
  "kernelspec": {
   "display_name": "Python 3",
   "language": "python",
   "name": "python3"
  },
  "language_info": {
   "codemirror_mode": {
    "name": "ipython",
    "version": 3
   },
   "file_extension": ".py",
   "mimetype": "text/x-python",
   "name": "python",
   "nbconvert_exporter": "python",
   "pygments_lexer": "ipython3",
   "version": "3.8.5"
  }
 },
 "nbformat": 4,
 "nbformat_minor": 4
}
