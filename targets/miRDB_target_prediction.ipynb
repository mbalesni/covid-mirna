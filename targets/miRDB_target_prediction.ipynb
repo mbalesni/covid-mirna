{
 "cells": [
  {
   "cell_type": "code",
   "execution_count": 1,
   "id": "cross-alfred",
   "metadata": {},
   "outputs": [],
   "source": [
    "import numpy as np\n",
    "import pandas as pd"
   ]
  },
  {
   "cell_type": "code",
   "execution_count": 109,
   "id": "better-stadium",
   "metadata": {},
   "outputs": [
    {
     "data": {
      "text/html": [
       "<div>\n",
       "<style scoped>\n",
       "    .dataframe tbody tr th:only-of-type {\n",
       "        vertical-align: middle;\n",
       "    }\n",
       "\n",
       "    .dataframe tbody tr th {\n",
       "        vertical-align: top;\n",
       "    }\n",
       "\n",
       "    .dataframe thead th {\n",
       "        text-align: right;\n",
       "    }\n",
       "</style>\n",
       "<table border=\"1\" class=\"dataframe\">\n",
       "  <thead>\n",
       "    <tr style=\"text-align: right;\">\n",
       "      <th></th>\n",
       "      <th>sequence</th>\n",
       "      <th>strand</th>\n",
       "    </tr>\n",
       "  </thead>\n",
       "  <tbody>\n",
       "    <tr>\n",
       "      <th>0</th>\n",
       "      <td>AUGUCUACUUAGCUGUCUUUGA</td>\n",
       "      <td>5'</td>\n",
       "    </tr>\n",
       "    <tr>\n",
       "      <th>1</th>\n",
       "      <td>CUUCUGGUAAUCUAUUACUAGA</td>\n",
       "      <td>5'</td>\n",
       "    </tr>\n",
       "    <tr>\n",
       "      <th>2</th>\n",
       "      <td>UACCAUAUUGGGUAGUGCUUUA</td>\n",
       "      <td>3'</td>\n",
       "    </tr>\n",
       "    <tr>\n",
       "      <th>3</th>\n",
       "      <td>UACUAAAUUAAAUGAUCUCUGC</td>\n",
       "      <td>5'</td>\n",
       "    </tr>\n",
       "    <tr>\n",
       "      <th>4</th>\n",
       "      <td>AGUGUUUUAAAUGAUAUCCUUU</td>\n",
       "      <td>3'</td>\n",
       "    </tr>\n",
       "  </tbody>\n",
       "</table>\n",
       "</div>"
      ],
      "text/plain": [
       "                 sequence strand\n",
       "0  AUGUCUACUUAGCUGUCUUUGA     5'\n",
       "1  CUUCUGGUAAUCUAUUACUAGA     5'\n",
       "2  UACCAUAUUGGGUAGUGCUUUA     3'\n",
       "3  UACUAAAUUAAAUGAUCUCUGC     5'\n",
       "4  AGUGUUUUAAAUGAUAUCCUUU     3'"
      ]
     },
     "execution_count": 109,
     "metadata": {},
     "output_type": "execute_result"
    }
   ],
   "source": [
    "# from miRNAFold predicted hairpins\n",
    "mature_mirnas_ours = pd.read_csv(\"mature-mirnas-from-mirnafold.csv\") \n",
    "mature_mirnas_ours.head()"
   ]
  },
  {
   "cell_type": "code",
   "execution_count": 104,
   "id": "therapeutic-kansas",
   "metadata": {},
   "outputs": [
    {
     "data": {
      "text/html": [
       "<div>\n",
       "<style scoped>\n",
       "    .dataframe tbody tr th:only-of-type {\n",
       "        vertical-align: middle;\n",
       "    }\n",
       "\n",
       "    .dataframe tbody tr th {\n",
       "        vertical-align: top;\n",
       "    }\n",
       "\n",
       "    .dataframe thead th {\n",
       "        text-align: right;\n",
       "    }\n",
       "</style>\n",
       "<table border=\"1\" class=\"dataframe\">\n",
       "  <thead>\n",
       "    <tr style=\"text-align: right;\">\n",
       "      <th></th>\n",
       "      <th>miRNA SARS-CoV-2</th>\n",
       "    </tr>\n",
       "  </thead>\n",
       "  <tbody>\n",
       "    <tr>\n",
       "      <th>0</th>\n",
       "      <td>&gt;5'stem-miRNA 102</td>\n",
       "    </tr>\n",
       "    <tr>\n",
       "      <th>1</th>\n",
       "      <td>CAAGGGCUGGUGAAGCUGCUAA</td>\n",
       "    </tr>\n",
       "    <tr>\n",
       "      <th>2</th>\n",
       "      <td>&gt;5'stem-miRNA 103</td>\n",
       "    </tr>\n",
       "    <tr>\n",
       "      <th>3</th>\n",
       "      <td>UAGGUGAGUUAGGUGAUGUUAG</td>\n",
       "    </tr>\n",
       "    <tr>\n",
       "      <th>4</th>\n",
       "      <td>&gt;5'stem-miRNA 110</td>\n",
       "    </tr>\n",
       "  </tbody>\n",
       "</table>\n",
       "</div>"
      ],
      "text/plain": [
       "         miRNA SARS-CoV-2\n",
       "0       >5'stem-miRNA 102\n",
       "1  CAAGGGCUGGUGAAGCUGCUAA\n",
       "2       >5'stem-miRNA 103\n",
       "3  UAGGUGAGUUAGGUGAUGUUAG\n",
       "4       >5'stem-miRNA 110"
      ]
     },
     "execution_count": 104,
     "metadata": {},
     "output_type": "execute_result"
    }
   ],
   "source": [
    "# source: https://www.frontiersin.org/articles/10.3389/fgene.2020.00765/full#supplementary-material\n",
    "# \"Data_Sheet_3_Epigenetic Regulator miRNA Pattern Differences Among SARS-CoV, SARS-CoV-2, and SARS-CoV-2 \n",
    "# World-Wide Isolates Delineated the Mystery Behi.xlxs\"\n",
    "# column for SARS-CoV-2 selected and converted to csv\n",
    "mirnas_paper = pd.read_csv(\"miRNA_paper.csv\") \n",
    "mirnas_paper.head()"
   ]
  },
  {
   "cell_type": "code",
   "execution_count": 105,
   "id": "digital-ability",
   "metadata": {},
   "outputs": [
    {
     "data": {
      "text/html": [
       "<div>\n",
       "<style scoped>\n",
       "    .dataframe tbody tr th:only-of-type {\n",
       "        vertical-align: middle;\n",
       "    }\n",
       "\n",
       "    .dataframe tbody tr th {\n",
       "        vertical-align: top;\n",
       "    }\n",
       "\n",
       "    .dataframe thead th {\n",
       "        text-align: right;\n",
       "    }\n",
       "</style>\n",
       "<table border=\"1\" class=\"dataframe\">\n",
       "  <thead>\n",
       "    <tr style=\"text-align: right;\">\n",
       "      <th></th>\n",
       "      <th>sequence</th>\n",
       "      <th>strand</th>\n",
       "    </tr>\n",
       "  </thead>\n",
       "  <tbody>\n",
       "    <tr>\n",
       "      <th>1</th>\n",
       "      <td>CAAGGGCUGGUGAAGCUGCUAA</td>\n",
       "      <td>&gt;5'stem-miRNA 102</td>\n",
       "    </tr>\n",
       "    <tr>\n",
       "      <th>3</th>\n",
       "      <td>UAGGUGAGUUAGGUGAUGUUAG</td>\n",
       "      <td>&gt;5'stem-miRNA 103</td>\n",
       "    </tr>\n",
       "    <tr>\n",
       "      <th>5</th>\n",
       "      <td>AAAGUCCUCAGAAUACAAAGGU</td>\n",
       "      <td>&gt;5'stem-miRNA 110</td>\n",
       "    </tr>\n",
       "    <tr>\n",
       "      <th>7</th>\n",
       "      <td>UGGUGUAUACGUUGUCUUUGGA</td>\n",
       "      <td>&gt;5'stem-miRNA 116</td>\n",
       "    </tr>\n",
       "    <tr>\n",
       "      <th>9</th>\n",
       "      <td>AUACUAUAGCUAAUUAUGCUAA</td>\n",
       "      <td>&gt;5'stem-miRNA 123</td>\n",
       "    </tr>\n",
       "  </tbody>\n",
       "</table>\n",
       "</div>"
      ],
      "text/plain": [
       "                 sequence             strand\n",
       "1  CAAGGGCUGGUGAAGCUGCUAA  >5'stem-miRNA 102\n",
       "3  UAGGUGAGUUAGGUGAUGUUAG  >5'stem-miRNA 103\n",
       "5  AAAGUCCUCAGAAUACAAAGGU  >5'stem-miRNA 110\n",
       "7  UGGUGUAUACGUUGUCUUUGGA  >5'stem-miRNA 116\n",
       "9  AUACUAUAGCUAAUUAUGCUAA  >5'stem-miRNA 123"
      ]
     },
     "execution_count": 105,
     "metadata": {},
     "output_type": "execute_result"
    }
   ],
   "source": [
    "stem = (mirnas_paper[mirnas_paper.index % 2 == 0]).rename(columns = {'miRNA SARS-CoV-2': 'stem'})\n",
    "mirnas_paper = mirnas_paper.drop(mirnas_paper.index[mirnas_paper.index % 2 == 0])\n",
    "mirnas_paper['strand'] = stem.values\n",
    "mirnas_paper = mirnas_paper.rename(columns = {'miRNA SARS-CoV-2': 'sequence'})\n",
    "mirnas_paper.head()"
   ]
  },
  {
   "cell_type": "code",
   "execution_count": 127,
   "id": "determined-mauritius",
   "metadata": {},
   "outputs": [],
   "source": [
    "# searching for the common sequences with the paper\n",
    "common_mirnas = mirnas_paper.merge(right = mature_mirnas_ours, how = 'inner', on = 'sequence')"
   ]
  },
  {
   "cell_type": "code",
   "execution_count": 231,
   "id": "flying-degree",
   "metadata": {},
   "outputs": [
    {
     "name": "stdout",
     "output_type": "stream",
     "text": [
      "50 miRNAs out of 75 that we obtained, are same as in https://www.ncbi.nlm.nih.gov/pmc/articles/PMC7381279/pdf/fgene-11-00765.pdf\n"
     ]
    }
   ],
   "source": [
    "print(f\"{common_mirnas.shape[0]} miRNAs out of {mature_mirnas_ours.shape[0]} that we obtained, are same as in https://www.ncbi.nlm.nih.gov/pmc/articles/PMC7381279/pdf/fgene-11-00765.pdf\")"
   ]
  },
  {
   "cell_type": "markdown",
   "id": "assisted-characteristic",
   "metadata": {},
   "source": [
    " # Target prediction"
   ]
  },
  {
   "cell_type": "markdown",
   "id": "simplified-associate",
   "metadata": {},
   "source": [
    "The following predictions have been obtained with [miRDB](http://mirdb.org/custom.html) target prediction tool. For each miRNA from `mature-mirnas-from-mirnafold.csv` predictions with score `>80` were selected ([as authors suggest](http://mirdb.org/faq.html#How_to_interpret_the_target_prediction_score)) "
   ]
  },
  {
   "cell_type": "code",
   "execution_count": 233,
   "id": "special-observation",
   "metadata": {},
   "outputs": [
    {
     "data": {
      "text/html": [
       "<div>\n",
       "<style scoped>\n",
       "    .dataframe tbody tr th:only-of-type {\n",
       "        vertical-align: middle;\n",
       "    }\n",
       "\n",
       "    .dataframe tbody tr th {\n",
       "        vertical-align: top;\n",
       "    }\n",
       "\n",
       "    .dataframe thead th {\n",
       "        text-align: right;\n",
       "    }\n",
       "</style>\n",
       "<table border=\"1\" class=\"dataframe\">\n",
       "  <thead>\n",
       "    <tr style=\"text-align: right;\">\n",
       "      <th></th>\n",
       "      <th>Target Rank</th>\n",
       "      <th>Sequence</th>\n",
       "      <th>Gene Symbol</th>\n",
       "      <th>Gene Description</th>\n",
       "    </tr>\n",
       "  </thead>\n",
       "  <tbody>\n",
       "    <tr>\n",
       "      <th>0</th>\n",
       "      <td>100</td>\n",
       "      <td>AUGUCUACUUAGCUGUCUUUGA</td>\n",
       "      <td>SPIN1</td>\n",
       "      <td>spindlin 1</td>\n",
       "    </tr>\n",
       "    <tr>\n",
       "      <th>1</th>\n",
       "      <td>95</td>\n",
       "      <td>AUGUCUACUUAGCUGUCUUUGA</td>\n",
       "      <td>PTPN11</td>\n",
       "      <td>protein tyrosine phosphatase, non-receptor typ...</td>\n",
       "    </tr>\n",
       "    <tr>\n",
       "      <th>2</th>\n",
       "      <td>95</td>\n",
       "      <td>AUGUCUACUUAGCUGUCUUUGA</td>\n",
       "      <td>UFM1</td>\n",
       "      <td>ubiquitin fold modifier 1</td>\n",
       "    </tr>\n",
       "    <tr>\n",
       "      <th>3</th>\n",
       "      <td>94</td>\n",
       "      <td>AUGUCUACUUAGCUGUCUUUGA</td>\n",
       "      <td>ASB15</td>\n",
       "      <td>ankyrin repeat and SOCS box containing 15</td>\n",
       "    </tr>\n",
       "    <tr>\n",
       "      <th>4</th>\n",
       "      <td>94</td>\n",
       "      <td>AUGUCUACUUAGCUGUCUUUGA</td>\n",
       "      <td>SPIN2A</td>\n",
       "      <td>spindlin family member 2A</td>\n",
       "    </tr>\n",
       "  </tbody>\n",
       "</table>\n",
       "</div>"
      ],
      "text/plain": [
       "   Target Rank                Sequence Gene Symbol  \\\n",
       "0          100  AUGUCUACUUAGCUGUCUUUGA       SPIN1   \n",
       "1           95  AUGUCUACUUAGCUGUCUUUGA      PTPN11   \n",
       "2           95  AUGUCUACUUAGCUGUCUUUGA        UFM1   \n",
       "3           94  AUGUCUACUUAGCUGUCUUUGA       ASB15   \n",
       "4           94  AUGUCUACUUAGCUGUCUUUGA      SPIN2A   \n",
       "\n",
       "                                    Gene Description  \n",
       "0                                         spindlin 1  \n",
       "1  protein tyrosine phosphatase, non-receptor typ...  \n",
       "2                          ubiquitin fold modifier 1  \n",
       "3          ankyrin repeat and SOCS box containing 15  \n",
       "4                          spindlin family member 2A  "
      ]
     },
     "execution_count": 233,
     "metadata": {},
     "output_type": "execute_result"
    }
   ],
   "source": [
    "target_df = pd.read_csv(\"mirdb_targets_for_mirnafold.csv\")\n",
    "target_df.head()"
   ]
  },
  {
   "cell_type": "markdown",
   "id": "cubic-reality",
   "metadata": {},
   "source": [
    "Selecting unique genes:"
   ]
  },
  {
   "cell_type": "code",
   "execution_count": 234,
   "id": "herbal-evaluation",
   "metadata": {},
   "outputs": [],
   "source": [
    "unique_targets = target_df['Gene Symbol'].unique()"
   ]
  },
  {
   "cell_type": "code",
   "execution_count": 237,
   "id": "reduced-minute",
   "metadata": {},
   "outputs": [
    {
     "name": "stdout",
     "output_type": "stream",
     "text": [
      "With miRDB have discovered 8197 unique targets for the miRNAs filtered from miRNAFold predicted precursors.\n"
     ]
    }
   ],
   "source": [
    "print(f\"With miRDB have discovered {unique_targets.shape[0]} unique targets for the miRNAs filtered from miRNAFold predicted precursors.\")"
   ]
  },
  {
   "cell_type": "code",
   "execution_count": 251,
   "id": "thousand-greenhouse",
   "metadata": {},
   "outputs": [],
   "source": [
    "pd.DataFrame(unique_targets).to_csv(\"list_targets_by_miRDB_for_miRNAFold\", header = False, index = False)"
   ]
  }
 ],
 "metadata": {
  "kernelspec": {
   "display_name": "Python 3",
   "language": "python",
   "name": "python3"
  },
  "language_info": {
   "codemirror_mode": {
    "name": "ipython",
    "version": 3
   },
   "file_extension": ".py",
   "mimetype": "text/x-python",
   "name": "python",
   "nbconvert_exporter": "python",
   "pygments_lexer": "ipython3",
   "version": "3.6.12"
  }
 },
 "nbformat": 4,
 "nbformat_minor": 5
}
