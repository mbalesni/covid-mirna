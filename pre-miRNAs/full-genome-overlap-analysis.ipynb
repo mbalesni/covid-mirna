{
 "cells": [
  {
   "cell_type": "code",
   "execution_count": 6,
   "metadata": {},
   "outputs": [],
   "source": [
    "import pandas as pd"
   ]
  },
  {
   "cell_type": "markdown",
   "metadata": {},
   "source": [
    "### Overlap between (non-filtered) pre-miRNAs"
   ]
  },
  {
   "cell_type": "code",
   "execution_count": 102,
   "metadata": {},
   "outputs": [
    {
     "name": "stdout",
     "output_type": "stream",
     "text": [
      "Full-genome total: 775 (VMIR: 256, miRNAFold: 519)\n"
     ]
    }
   ],
   "source": [
    "full_genome_vmir = pd.read_csv('./full-genome/raw/vmir-output.csv')\n",
    "full_genome_vmir.rename(columns={'Sequence':'sequence'}, inplace=True)\n",
    "full_genome_mirnafold = pd.read_csv('./full-genome/raw/mirnafold-output.csv')\n",
    "full_genome_mirnafold.rename(columns={'0':'sequence'}, inplace=True)\n",
    "full_genome = pd.concat([full_genome_vmir, full_genome_mirnafold], ignore_index=True, verify_integrity=True)\n",
    "\n",
    "print(f'Full-genome total: {len(full_genome)} (VMIR: {len(full_genome_vmir)}, miRNAFold: {len(full_genome_mirnafold)})')"
   ]
  },
  {
   "cell_type": "code",
   "execution_count": 93,
   "metadata": {},
   "outputs": [
    {
     "name": "stdout",
     "output_type": "stream",
     "text": [
      "Non-conserved total: 153 (VMIR: 14, miRNAFold: 139)\n"
     ]
    }
   ],
   "source": [
    "non_conserved_region_vmir = pd.read_csv('./non-conserved-region/raw/vmir-output.csv')\n",
    "non_conserved_region_vmir.rename(columns={'Sequence':'sequence'}, inplace=True)\n",
    "non_conserved_region_mirnafold = pd.read_csv('./non-conserved-region/raw/mirnafold-output.csv')\n",
    "non_conserved_region_mirnafold.rename(columns={'0':'sequence'}, inplace=True)\n",
    "non_conserved = pd.concat([non_conserved_region_vmir, non_conserved_region_mirnafold], ignore_index=True, verify_integrity=True)\n",
    "\n",
    "print(f'Non-conserved total: {len(non_conserved)} (VMIR: {len(non_conserved_region_vmir)}, miRNAFold: {len(non_conserved_region_mirnafold)})')"
   ]
  },
  {
   "cell_type": "code",
   "execution_count": 111,
   "metadata": {},
   "outputs": [
    {
     "name": "stdout",
     "output_type": "stream",
     "text": [
      "Found 6 new sequences in non-conserved region 😅\n",
      "Vmir: 1 miRNAFold: 5\n"
     ]
    }
   ],
   "source": [
    "full_genome_seqs = set(full_genome.sequence)\n",
    "non_conserved_seqs = set(non_conserved.sequence)\n",
    "\n",
    "combination = full_genome_seqs.union(non_conserved_seqs)\n",
    "new_non_conserved = combination.difference(full_genome_seqs)\n",
    "print(f'Found {len(new_non_conserved)} new sequences in non-conserved region 😅')\n",
    "\n",
    "vmir = 0\n",
    "mirnafold = 0\n",
    "\n",
    "for sequence in new_non_conserved:\n",
    "    if sequence in list(non_conserved_region_vmir.sequence):\n",
    "        vmir += 1\n",
    "    if sequence in list(non_conserved_region_mirnafold.sequence):\n",
    "        mirnafold += 1\n",
    "        \n",
    "print(f'Vmir: {vmir} miRNAFold: {mirnafold}')"
   ]
  },
  {
   "cell_type": "markdown",
   "metadata": {},
   "source": [
    "### Overlap between *filtered* pre-miRNAs"
   ]
  },
  {
   "cell_type": "code",
   "execution_count": 119,
   "metadata": {},
   "outputs": [
    {
     "name": "stdout",
     "output_type": "stream",
     "text": [
      "Full-genome total: 37 (VMIR: 10, miRNAFold: 27)\n"
     ]
    }
   ],
   "source": [
    "full_genome_vmir = pd.read_csv('./full-genome/filtered/vmir_output_filtered.csv')\n",
    "full_genome_vmir.rename(columns={'Sequence':'sequence'}, inplace=True)\n",
    "full_genome_mirnafold = pd.read_csv('./full-genome/filtered/filtered-pre-mirnas.csv')\n",
    "full_genome_mirnafold.rename(columns={'pre-miRNA candidate seq':'sequence', 'MFE':'mfe', 'MFEIS':'mfeis'}, inplace=True)\n",
    "full_genome = pd.concat([full_genome_vmir, full_genome_mirnafold], ignore_index=True, verify_integrity=True)\n",
    "\n",
    "print(f'Full-genome total: {len(full_genome)} (VMIR: {len(full_genome_vmir)}, miRNAFold: {len(full_genome_mirnafold)})')"
   ]
  },
  {
   "cell_type": "code",
   "execution_count": 120,
   "metadata": {},
   "outputs": [
    {
     "name": "stdout",
     "output_type": "stream",
     "text": [
      "Non-conserved total: 15 (VMIR: 4, miRNAFold: 11)\n"
     ]
    }
   ],
   "source": [
    "non_conserved_region_vmir = pd.read_csv('./non-conserved-region/filtered/vmir_output_from_S_filtered.csv')\n",
    "non_conserved_region_mirnafold = pd.read_csv('./non-conserved-region/filtered/mirnafold_output_from_S_filtered.csv')\n",
    "non_conserved_region_mirnafold.rename(columns={'pre-miRNA candidate seq':'sequence', 'MFE':'mfe', 'MFEIS':'mfeis'}, inplace=True)\n",
    "non_conserved = pd.concat([non_conserved_region_vmir, non_conserved_region_mirnafold], ignore_index=True, verify_integrity=True)\n",
    "\n",
    "print(f'Non-conserved total: {len(non_conserved)} (VMIR: {len(non_conserved_region_vmir)}, miRNAFold: {len(non_conserved_region_mirnafold)})')"
   ]
  },
  {
   "cell_type": "code",
   "execution_count": 121,
   "metadata": {},
   "outputs": [
    {
     "name": "stdout",
     "output_type": "stream",
     "text": [
      "Found 7 new sequences in non-conserved region 😅\n",
      "Vmir: 4 miRNAFold: 9\n"
     ]
    }
   ],
   "source": [
    "full_genome_seqs = set(full_genome.sequence)\n",
    "non_conserved_seqs = set(non_conserved.sequence)\n",
    "\n",
    "combination = full_genome_seqs.union(non_conserved_seqs)\n",
    "new_non_conserved = combination.difference(full_genome_seqs)\n",
    "print(f'Found {len(new_non_conserved)} new sequences in non-conserved region 😅')\n",
    "\n",
    "for sequence in new_non_conserved:\n",
    "    if sequence in list(non_conserved_region_vmir.sequence):\n",
    "        vmir += 1\n",
    "    if sequence in list(non_conserved_region_mirnafold.sequence):\n",
    "        mirnafold += 1\n",
    "        \n",
    "print(f'Vmir: {vmir} miRNAFold: {mirnafold}')"
   ]
  },
  {
   "cell_type": "code",
   "execution_count": 131,
   "metadata": {},
   "outputs": [
    {
     "data": {
      "text/plain": [
       "['AGCAAGUGCACUUGGAAAACUUCAAGAUGUGGUCAACCAAAAUGCACAAGCU',\n",
       " 'ATGCGGAATTATATAGGACAGAATAATCAGCAACACAGTTGCTGATTCTCTTCCTGTTCCAAGCAT',\n",
       " 'CAGAGUAGUAGUACUUUCUUUUGAACUUCUACAUGCACCAGCAACUGUUUGUGGACCUAAAAAGUCUACUAAUUUG',\n",
       " 'GGTTTTATAGCTGGCTTGATTGCCATAGTAATGGTGACAATTATGCTTTGCTGTATGACC',\n",
       " 'TTGAACATGTTACCTTCTTCATCTACAATAAAATTGTTGATGAGCCTGAAGAACATGTCCAA',\n",
       " 'UGCAACGAUACCGAUACAAGCCUCACUCCCUUUCGGAUGGCUUAUUGUUGGCGUUGCA',\n",
       " 'UUGACUUUCAGGUUACUAUAGCAGAGAUAUUACUAAUUAUUAUGAGGACUUUUAAAGUUUCCAUUUGGAAUCUUGAUUACAUCAUAAACCUCAUAAUUAAAAAUUUAUCUAAGUCACUAACUGAGAAUAAAUAUUCUCAA']"
      ]
     },
     "execution_count": 131,
     "metadata": {},
     "output_type": "execute_result"
    }
   ],
   "source": [
    "sorted(new_non_conserved)"
   ]
  },
  {
   "cell_type": "code",
   "execution_count": 129,
   "metadata": {},
   "outputs": [
    {
     "data": {
      "text/plain": [
       "['AAAGUAUGAGCAGUAUAUAAAAUGGCCAUGGUACAUUUGGCUAGGUUUUAUAGCUGGCUUGAUUGCCAUAGUAAUGGUGACAAUUAUGCUUU',\n",
       " 'AGCAAGUGCACUUGGAAAACUUCAAGAUGUGGUCAACCAAAAUGCACAAGCU',\n",
       " 'CAGAGUAGUAGUACUUUCUUUUGAACUUCUACAUGCACCAGCAACUGUUUGUGGACCUAAAAAGUCUACUAAUUUG',\n",
       " 'CUUUUCUUAUGGACCUUGAAGGAAAACAGGGUAAUUUCAAAAAUCUUAGGGAAUUUGUGUUUAAGAAUAUUGAUGGUUAUUUUAAAAUAUAUUCUAAGCACACGCCUAUUAAUUUAGUGCGUGAUCUCCCUCAGGGUUUUUCGGCUUUAG',\n",
       " 'GCAUCAUUUUCCACUUUUAAGUGUUAUGGAGUGUCUCCUACUAAAUUAAAUGAUCUCUGCUUUACUAAUGUCUAUGCAGAUUCAUUUGUAAUUAGAGGUGAUGAAGUCAGACAAAUCGCUCCAGGGCAAACUGGAAAGAUUGC',\n",
       " 'GGAAGUUCAAGAACUUUACUCUCCAAUUUUUCUUAUUGUUGCGGCAAUAGUGUUUAUAACACUUUGCUUCACACUCAAAAGAAAGACAGAAUGAUUGAACUUUCAUUAAUUGACUUCU',\n",
       " 'GUAACUUCUUCAAUUGUCAUUACUUCAGGUGAUGGCACAACAAGUCCUAUUUCUGAACAUGACUACCAGAUUGGUGGUUAUACUGAAAAAUGGGAAUCUGGAGUAAAAGACUGUGUUGUAUUACACAGUUAC',\n",
       " 'UCAGACAAGAGGAAGUUCAAGAACUUUACUCUCCAAUUUUUCUUAUUGUUGCGGCAAUAGUGUUUAUAACACUUUGCUUCACACUCAAAAGAAAGACAGAAUGAUUGAACUUUCAUUAAUUGA',\n",
       " 'UCAUUUGUAAUUAGAGGUGAUGAAGUCAGACAAAUCGCUCCAGGGCAAACUGGAAAGAUUGCUGAUUAUAAUUAUAAAUUACCAGAUGA',\n",
       " 'UGCAACGAUACCGAUACAAGCCUCACUCCCUUUCGGAUGGCUUAUUGUUGGCGUUGCA',\n",
       " 'UUGACUUUCAGGUUACUAUAGCAGAGAUAUUACUAAUUAUUAUGAGGACUUUUAAAGUUUCCAUUUGGAAUCUUGAUUACAUCAUAAACCUCAUAAUUAAAAAUUUAUCUAAGUCACUAACUGAGAAUAAAUAUUCUCAA']"
      ]
     },
     "execution_count": 129,
     "metadata": {},
     "output_type": "execute_result"
    }
   ],
   "source": [
    "sorted(list(non_conserved_region_mirnafold.sequence))"
   ]
  },
  {
   "cell_type": "code",
   "execution_count": 130,
   "metadata": {},
   "outputs": [
    {
     "data": {
      "text/plain": [
       "['ATGCGGAATTATATAGGACAGAATAATCAGCAACACAGTTGCTGATTCTCTTCCTGTTCCAAGCAT',\n",
       " 'ATTGTGTGAATTTGGACATGTTCTTCAGGCTCATCAACAATTTTATTGTAGATGAAGAAGGTAACATGTTCAACACCAGT',\n",
       " 'GGTTTTATAGCTGGCTTGATTGCCATAGTAATGGTGACAATTATGCTTTGCTGTATGACC',\n",
       " 'TTGAACATGTTACCTTCTTCATCTACAATAAAATTGTTGATGAGCCTGAAGAACATGTCCAA']"
      ]
     },
     "execution_count": 130,
     "metadata": {},
     "output_type": "execute_result"
    }
   ],
   "source": [
    "sorted(list(non_conserved_region_vmir.sequence))"
   ]
  },
  {
   "cell_type": "code",
   "execution_count": 78,
   "metadata": {},
   "outputs": [
    {
     "data": {
      "text/html": [
       "<div>\n",
       "<style scoped>\n",
       "    .dataframe tbody tr th:only-of-type {\n",
       "        vertical-align: middle;\n",
       "    }\n",
       "\n",
       "    .dataframe tbody tr th {\n",
       "        vertical-align: top;\n",
       "    }\n",
       "\n",
       "    .dataframe thead th {\n",
       "        text-align: right;\n",
       "    }\n",
       "</style>\n",
       "<table border=\"1\" class=\"dataframe\">\n",
       "  <thead>\n",
       "    <tr style=\"text-align: right;\">\n",
       "      <th></th>\n",
       "      <th>sequence</th>\n",
       "      <th>mfe</th>\n",
       "      <th>mfeis</th>\n",
       "      <th>class</th>\n",
       "    </tr>\n",
       "  </thead>\n",
       "  <tbody>\n",
       "    <tr>\n",
       "      <th>0</th>\n",
       "      <td>ATGCGGAATTATATAGGACAGAATAATCAGCAACACAGTTGCTGAT...</td>\n",
       "      <td>-23.900000</td>\n",
       "      <td>-0.919231</td>\n",
       "      <td>Real</td>\n",
       "    </tr>\n",
       "    <tr>\n",
       "      <th>1</th>\n",
       "      <td>ATTGTGTGAATTTGGACATGTTCTTCAGGCTCATCAACAATTTTAT...</td>\n",
       "      <td>-25.000000</td>\n",
       "      <td>-0.892857</td>\n",
       "      <td>Real</td>\n",
       "    </tr>\n",
       "    <tr>\n",
       "      <th>2</th>\n",
       "      <td>GGTTTTATAGCTGGCTTGATTGCCATAGTAATGGTGACAATTATGC...</td>\n",
       "      <td>-21.500000</td>\n",
       "      <td>-0.895833</td>\n",
       "      <td>Real</td>\n",
       "    </tr>\n",
       "    <tr>\n",
       "      <th>3</th>\n",
       "      <td>TTGAACATGTTACCTTCTTCATCTACAATAAAATTGTTGATGAGCC...</td>\n",
       "      <td>-18.200001</td>\n",
       "      <td>-0.866667</td>\n",
       "      <td>Pseudo</td>\n",
       "    </tr>\n",
       "    <tr>\n",
       "      <th>4</th>\n",
       "      <td>CUUUUCUUAUGGACCUUGAAGGAAAACAGGGUAAUUUCAAAAAUCU...</td>\n",
       "      <td>-42.900000</td>\n",
       "      <td>-0.858000</td>\n",
       "      <td>Real</td>\n",
       "    </tr>\n",
       "    <tr>\n",
       "      <th>5</th>\n",
       "      <td>GCAUCAUUUUCCACUUUUAAGUGUUAUGGAGUGUCUCCUACUAAAU...</td>\n",
       "      <td>-47.900000</td>\n",
       "      <td>-0.903774</td>\n",
       "      <td>Real</td>\n",
       "    </tr>\n",
       "    <tr>\n",
       "      <th>6</th>\n",
       "      <td>UCAUUUGUAAUUAGAGGUGAUGAAGUCAGACAAAUCGCUCCAGGGC...</td>\n",
       "      <td>-27.300000</td>\n",
       "      <td>-0.880645</td>\n",
       "      <td>Real</td>\n",
       "    </tr>\n",
       "    <tr>\n",
       "      <th>7</th>\n",
       "      <td>CAGAGUAGUAGUACUUUCUUUUGAACUUCUACAUGCACCAGCAACU...</td>\n",
       "      <td>-25.200000</td>\n",
       "      <td>-0.900000</td>\n",
       "      <td>Pseudo</td>\n",
       "    </tr>\n",
       "    <tr>\n",
       "      <th>8</th>\n",
       "      <td>AGCAAGUGCACUUGGAAAACUUCAAGAUGUGGUCAACCAAAAUGCA...</td>\n",
       "      <td>-19.300000</td>\n",
       "      <td>-0.877273</td>\n",
       "      <td>Pseudo</td>\n",
       "    </tr>\n",
       "    <tr>\n",
       "      <th>9</th>\n",
       "      <td>AAAGUAUGAGCAGUAUAUAAAAUGGCCAUGGUACAUUUGGCUAGGU...</td>\n",
       "      <td>-28.100000</td>\n",
       "      <td>-0.851515</td>\n",
       "      <td>Real</td>\n",
       "    </tr>\n",
       "    <tr>\n",
       "      <th>10</th>\n",
       "      <td>UGCAACGAUACCGAUACAAGCCUCACUCCCUUUCGGAUGGCUUAUU...</td>\n",
       "      <td>-25.000000</td>\n",
       "      <td>-0.862069</td>\n",
       "      <td>Pseudo</td>\n",
       "    </tr>\n",
       "    <tr>\n",
       "      <th>11</th>\n",
       "      <td>GUAACUUCUUCAAUUGUCAUUACUUCAGGUGAUGGCACAACAAGUC...</td>\n",
       "      <td>-43.700000</td>\n",
       "      <td>-0.891837</td>\n",
       "      <td>Real</td>\n",
       "    </tr>\n",
       "    <tr>\n",
       "      <th>12</th>\n",
       "      <td>UUGACUUUCAGGUUACUAUAGCAGAGAUAUUACUAAUUAUUAUGAG...</td>\n",
       "      <td>-30.700000</td>\n",
       "      <td>-0.852778</td>\n",
       "      <td>Pseudo</td>\n",
       "    </tr>\n",
       "    <tr>\n",
       "      <th>13</th>\n",
       "      <td>UCAGACAAGAGGAAGUUCAAGAACUUUACUCUCCAAUUUUUCUUAU...</td>\n",
       "      <td>-39.400000</td>\n",
       "      <td>-0.985000</td>\n",
       "      <td>Real</td>\n",
       "    </tr>\n",
       "    <tr>\n",
       "      <th>14</th>\n",
       "      <td>GGAAGUUCAAGAACUUUACUCUCCAAUUUUUCUUAUUGUUGCGGCA...</td>\n",
       "      <td>-36.700000</td>\n",
       "      <td>-0.965789</td>\n",
       "      <td>Real</td>\n",
       "    </tr>\n",
       "  </tbody>\n",
       "</table>\n",
       "</div>"
      ],
      "text/plain": [
       "                                             sequence        mfe     mfeis  \\\n",
       "0   ATGCGGAATTATATAGGACAGAATAATCAGCAACACAGTTGCTGAT... -23.900000 -0.919231   \n",
       "1   ATTGTGTGAATTTGGACATGTTCTTCAGGCTCATCAACAATTTTAT... -25.000000 -0.892857   \n",
       "2   GGTTTTATAGCTGGCTTGATTGCCATAGTAATGGTGACAATTATGC... -21.500000 -0.895833   \n",
       "3   TTGAACATGTTACCTTCTTCATCTACAATAAAATTGTTGATGAGCC... -18.200001 -0.866667   \n",
       "4   CUUUUCUUAUGGACCUUGAAGGAAAACAGGGUAAUUUCAAAAAUCU... -42.900000 -0.858000   \n",
       "5   GCAUCAUUUUCCACUUUUAAGUGUUAUGGAGUGUCUCCUACUAAAU... -47.900000 -0.903774   \n",
       "6   UCAUUUGUAAUUAGAGGUGAUGAAGUCAGACAAAUCGCUCCAGGGC... -27.300000 -0.880645   \n",
       "7   CAGAGUAGUAGUACUUUCUUUUGAACUUCUACAUGCACCAGCAACU... -25.200000 -0.900000   \n",
       "8   AGCAAGUGCACUUGGAAAACUUCAAGAUGUGGUCAACCAAAAUGCA... -19.300000 -0.877273   \n",
       "9   AAAGUAUGAGCAGUAUAUAAAAUGGCCAUGGUACAUUUGGCUAGGU... -28.100000 -0.851515   \n",
       "10  UGCAACGAUACCGAUACAAGCCUCACUCCCUUUCGGAUGGCUUAUU... -25.000000 -0.862069   \n",
       "11  GUAACUUCUUCAAUUGUCAUUACUUCAGGUGAUGGCACAACAAGUC... -43.700000 -0.891837   \n",
       "12  UUGACUUUCAGGUUACUAUAGCAGAGAUAUUACUAAUUAUUAUGAG... -30.700000 -0.852778   \n",
       "13  UCAGACAAGAGGAAGUUCAAGAACUUUACUCUCCAAUUUUUCUUAU... -39.400000 -0.985000   \n",
       "14  GGAAGUUCAAGAACUUUACUCUCCAAUUUUUCUUAUUGUUGCGGCA... -36.700000 -0.965789   \n",
       "\n",
       "     class  \n",
       "0     Real  \n",
       "1     Real  \n",
       "2     Real  \n",
       "3   Pseudo  \n",
       "4     Real  \n",
       "5     Real  \n",
       "6     Real  \n",
       "7   Pseudo  \n",
       "8   Pseudo  \n",
       "9     Real  \n",
       "10  Pseudo  \n",
       "11    Real  \n",
       "12  Pseudo  \n",
       "13    Real  \n",
       "14    Real  "
      ]
     },
     "execution_count": 78,
     "metadata": {},
     "output_type": "execute_result"
    }
   ],
   "source": [
    "non_conserved"
   ]
  },
  {
   "cell_type": "code",
   "execution_count": null,
   "metadata": {},
   "outputs": [],
   "source": []
  }
 ],
 "metadata": {
  "kernelspec": {
   "display_name": "Python 3",
   "language": "python",
   "name": "python3"
  },
  "language_info": {
   "codemirror_mode": {
    "name": "ipython",
    "version": 3
   },
   "file_extension": ".py",
   "mimetype": "text/x-python",
   "name": "python",
   "nbconvert_exporter": "python",
   "pygments_lexer": "ipython3",
   "version": "3.8.3"
  }
 },
 "nbformat": 4,
 "nbformat_minor": 4
}
