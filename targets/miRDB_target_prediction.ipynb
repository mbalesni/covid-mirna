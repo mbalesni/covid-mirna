{
 "cells": [
  {
   "cell_type": "code",
   "execution_count": 2,
   "id": "accessible-parks",
   "metadata": {},
   "outputs": [],
   "source": [
    "import numpy as np\n",
    "import pandas as pd"
   ]
  },
  {
   "cell_type": "code",
   "execution_count": 7,
   "id": "material-cathedral",
   "metadata": {},
   "outputs": [
    {
     "data": {
      "text/html": [
       "<div>\n",
       "<style scoped>\n",
       "    .dataframe tbody tr th:only-of-type {\n",
       "        vertical-align: middle;\n",
       "    }\n",
       "\n",
       "    .dataframe tbody tr th {\n",
       "        vertical-align: top;\n",
       "    }\n",
       "\n",
       "    .dataframe thead th {\n",
       "        text-align: right;\n",
       "    }\n",
       "</style>\n",
       "<table border=\"1\" class=\"dataframe\">\n",
       "  <thead>\n",
       "    <tr style=\"text-align: right;\">\n",
       "      <th></th>\n",
       "      <th>sequence</th>\n",
       "      <th>strand</th>\n",
       "    </tr>\n",
       "  </thead>\n",
       "  <tbody>\n",
       "    <tr>\n",
       "      <th>0</th>\n",
       "      <td>AUGUCUACUUAGCUGUCUUUGA</td>\n",
       "      <td>5'</td>\n",
       "    </tr>\n",
       "    <tr>\n",
       "      <th>1</th>\n",
       "      <td>CUUCUGGUAAUCUAUUACUAGA</td>\n",
       "      <td>5'</td>\n",
       "    </tr>\n",
       "    <tr>\n",
       "      <th>2</th>\n",
       "      <td>UACCAUAUUGGGUAGUGCUUUA</td>\n",
       "      <td>3'</td>\n",
       "    </tr>\n",
       "    <tr>\n",
       "      <th>3</th>\n",
       "      <td>UACUAAAUUAAAUGAUCUCUGC</td>\n",
       "      <td>5'</td>\n",
       "    </tr>\n",
       "    <tr>\n",
       "      <th>4</th>\n",
       "      <td>AGUGUUUUAAAUGAUAUCCUUU</td>\n",
       "      <td>3'</td>\n",
       "    </tr>\n",
       "  </tbody>\n",
       "</table>\n",
       "</div>"
      ],
      "text/plain": [
       "                 sequence strand\n",
       "0  AUGUCUACUUAGCUGUCUUUGA     5'\n",
       "1  CUUCUGGUAAUCUAUUACUAGA     5'\n",
       "2  UACCAUAUUGGGUAGUGCUUUA     3'\n",
       "3  UACUAAAUUAAAUGAUCUCUGC     5'\n",
       "4  AGUGUUUUAAAUGAUAUCCUUU     3'"
      ]
     },
     "execution_count": 7,
     "metadata": {},
     "output_type": "execute_result"
    }
   ],
   "source": [
    "# from miRNAFold predicted hairpins\n",
    "mature_mirnas_ours = pd.read_csv(\"../mature-miRNAs/mature-mirnas-from-mirnafold.csv\") \n",
    "mature_mirnas_ours.head()"
   ]
  },
  {
   "cell_type": "code",
   "execution_count": 9,
   "id": "joined-anthony",
   "metadata": {},
   "outputs": [
    {
     "data": {
      "text/html": [
       "<div>\n",
       "<style scoped>\n",
       "    .dataframe tbody tr th:only-of-type {\n",
       "        vertical-align: middle;\n",
       "    }\n",
       "\n",
       "    .dataframe tbody tr th {\n",
       "        vertical-align: top;\n",
       "    }\n",
       "\n",
       "    .dataframe thead th {\n",
       "        text-align: right;\n",
       "    }\n",
       "</style>\n",
       "<table border=\"1\" class=\"dataframe\">\n",
       "  <thead>\n",
       "    <tr style=\"text-align: right;\">\n",
       "      <th></th>\n",
       "      <th>miRNA SARS-CoV-2</th>\n",
       "    </tr>\n",
       "  </thead>\n",
       "  <tbody>\n",
       "    <tr>\n",
       "      <th>0</th>\n",
       "      <td>&gt;5'stem-miRNA 102</td>\n",
       "    </tr>\n",
       "    <tr>\n",
       "      <th>1</th>\n",
       "      <td>CAAGGGCUGGUGAAGCUGCUAA</td>\n",
       "    </tr>\n",
       "    <tr>\n",
       "      <th>2</th>\n",
       "      <td>&gt;5'stem-miRNA 103</td>\n",
       "    </tr>\n",
       "    <tr>\n",
       "      <th>3</th>\n",
       "      <td>UAGGUGAGUUAGGUGAUGUUAG</td>\n",
       "    </tr>\n",
       "    <tr>\n",
       "      <th>4</th>\n",
       "      <td>&gt;5'stem-miRNA 110</td>\n",
       "    </tr>\n",
       "  </tbody>\n",
       "</table>\n",
       "</div>"
      ],
      "text/plain": [
       "         miRNA SARS-CoV-2\n",
       "0       >5'stem-miRNA 102\n",
       "1  CAAGGGCUGGUGAAGCUGCUAA\n",
       "2       >5'stem-miRNA 103\n",
       "3  UAGGUGAGUUAGGUGAUGUUAG\n",
       "4       >5'stem-miRNA 110"
      ]
     },
     "execution_count": 9,
     "metadata": {},
     "output_type": "execute_result"
    }
   ],
   "source": [
    "# source: https://www.frontiersin.org/articles/10.3389/fgene.2020.00765/full#supplementary-material\n",
    "# \"Data_Sheet_3_Epigenetic Regulator miRNA Pattern Differences Among SARS-CoV, SARS-CoV-2, and SARS-CoV-2 \n",
    "# World-Wide Isolates Delineated the Mystery Behi.xlxs\"\n",
    "# column for SARS-CoV-2 selected and converted to csv\n",
    "mirnas_paper = pd.read_csv(\"../mature-miRNAs/papers/miRNA_paper.csv\", skiprows = 1) \n",
    "mirnas_paper.head()"
   ]
  },
  {
   "cell_type": "code",
   "execution_count": 10,
   "id": "engaged-lawyer",
   "metadata": {},
   "outputs": [
    {
     "data": {
      "text/html": [
       "<div>\n",
       "<style scoped>\n",
       "    .dataframe tbody tr th:only-of-type {\n",
       "        vertical-align: middle;\n",
       "    }\n",
       "\n",
       "    .dataframe tbody tr th {\n",
       "        vertical-align: top;\n",
       "    }\n",
       "\n",
       "    .dataframe thead th {\n",
       "        text-align: right;\n",
       "    }\n",
       "</style>\n",
       "<table border=\"1\" class=\"dataframe\">\n",
       "  <thead>\n",
       "    <tr style=\"text-align: right;\">\n",
       "      <th></th>\n",
       "      <th>sequence</th>\n",
       "      <th>strand</th>\n",
       "    </tr>\n",
       "  </thead>\n",
       "  <tbody>\n",
       "    <tr>\n",
       "      <th>1</th>\n",
       "      <td>CAAGGGCUGGUGAAGCUGCUAA</td>\n",
       "      <td>&gt;5'stem-miRNA 102</td>\n",
       "    </tr>\n",
       "    <tr>\n",
       "      <th>3</th>\n",
       "      <td>UAGGUGAGUUAGGUGAUGUUAG</td>\n",
       "      <td>&gt;5'stem-miRNA 103</td>\n",
       "    </tr>\n",
       "    <tr>\n",
       "      <th>5</th>\n",
       "      <td>AAAGUCCUCAGAAUACAAAGGU</td>\n",
       "      <td>&gt;5'stem-miRNA 110</td>\n",
       "    </tr>\n",
       "    <tr>\n",
       "      <th>7</th>\n",
       "      <td>UGGUGUAUACGUUGUCUUUGGA</td>\n",
       "      <td>&gt;5'stem-miRNA 116</td>\n",
       "    </tr>\n",
       "    <tr>\n",
       "      <th>9</th>\n",
       "      <td>AUACUAUAGCUAAUUAUGCUAA</td>\n",
       "      <td>&gt;5'stem-miRNA 123</td>\n",
       "    </tr>\n",
       "  </tbody>\n",
       "</table>\n",
       "</div>"
      ],
      "text/plain": [
       "                 sequence             strand\n",
       "1  CAAGGGCUGGUGAAGCUGCUAA  >5'stem-miRNA 102\n",
       "3  UAGGUGAGUUAGGUGAUGUUAG  >5'stem-miRNA 103\n",
       "5  AAAGUCCUCAGAAUACAAAGGU  >5'stem-miRNA 110\n",
       "7  UGGUGUAUACGUUGUCUUUGGA  >5'stem-miRNA 116\n",
       "9  AUACUAUAGCUAAUUAUGCUAA  >5'stem-miRNA 123"
      ]
     },
     "execution_count": 10,
     "metadata": {},
     "output_type": "execute_result"
    }
   ],
   "source": [
    "stem = (mirnas_paper[mirnas_paper.index % 2 == 0]).rename(columns = {'miRNA SARS-CoV-2': 'stem'})\n",
    "mirnas_paper = mirnas_paper.drop(mirnas_paper.index[mirnas_paper.index % 2 == 0])\n",
    "mirnas_paper['strand'] = stem.values\n",
    "mirnas_paper = mirnas_paper.rename(columns = {'miRNA SARS-CoV-2': 'sequence'})\n",
    "mirnas_paper.head()"
   ]
  },
  {
   "cell_type": "code",
   "execution_count": 11,
   "id": "union-draft",
   "metadata": {},
   "outputs": [],
   "source": [
    "# searching for the common sequences with the paper\n",
    "common_mirnas = mirnas_paper.merge(right = mature_mirnas_ours, how = 'inner', on = 'sequence')"
   ]
  },
  {
   "cell_type": "code",
   "execution_count": 12,
   "id": "clinical-quantum",
   "metadata": {},
   "outputs": [
    {
     "name": "stdout",
     "output_type": "stream",
     "text": [
      "50 miRNAs out of 75 that we obtained, are same as in https://www.ncbi.nlm.nih.gov/pmc/articles/PMC7381279/pdf/fgene-11-00765.pdf\n"
     ]
    }
   ],
   "source": [
    "print(f\"{common_mirnas.shape[0]} miRNAs out of {mature_mirnas_ours.shape[0]} that we obtained, are same as in https://www.ncbi.nlm.nih.gov/pmc/articles/PMC7381279/pdf/fgene-11-00765.pdf\")"
   ]
  },
  {
   "cell_type": "markdown",
   "id": "martial-acquisition",
   "metadata": {},
   "source": [
    " # Target prediction"
   ]
  },
  {
   "cell_type": "markdown",
   "id": "chronic-header",
   "metadata": {},
   "source": [
    "* ## miRNAFold pipeline"
   ]
  },
  {
   "cell_type": "markdown",
   "id": "expected-washer",
   "metadata": {},
   "source": [
    "The following predictions have been obtained with [miRDB](http://mirdb.org/custom.html) target prediction tool. For each miRNA from `mature-mirnas-from-mirnafold.csv` predictions with score `>80` were selected ([as authors suggest](http://mirdb.org/faq.html#How_to_interpret_the_target_prediction_score)) "
   ]
  },
  {
   "cell_type": "code",
   "execution_count": 15,
   "id": "alpha-cardiff",
   "metadata": {},
   "outputs": [
    {
     "data": {
      "text/html": [
       "<div>\n",
       "<style scoped>\n",
       "    .dataframe tbody tr th:only-of-type {\n",
       "        vertical-align: middle;\n",
       "    }\n",
       "\n",
       "    .dataframe tbody tr th {\n",
       "        vertical-align: top;\n",
       "    }\n",
       "\n",
       "    .dataframe thead th {\n",
       "        text-align: right;\n",
       "    }\n",
       "</style>\n",
       "<table border=\"1\" class=\"dataframe\">\n",
       "  <thead>\n",
       "    <tr style=\"text-align: right;\">\n",
       "      <th></th>\n",
       "      <th>Target Rank</th>\n",
       "      <th>Sequence</th>\n",
       "      <th>Gene Symbol</th>\n",
       "      <th>Gene Description</th>\n",
       "    </tr>\n",
       "  </thead>\n",
       "  <tbody>\n",
       "    <tr>\n",
       "      <th>0</th>\n",
       "      <td>100</td>\n",
       "      <td>AUGUCUACUUAGCUGUCUUUGA</td>\n",
       "      <td>SPIN1</td>\n",
       "      <td>spindlin 1</td>\n",
       "    </tr>\n",
       "    <tr>\n",
       "      <th>1</th>\n",
       "      <td>95</td>\n",
       "      <td>AUGUCUACUUAGCUGUCUUUGA</td>\n",
       "      <td>PTPN11</td>\n",
       "      <td>protein tyrosine phosphatase, non-receptor typ...</td>\n",
       "    </tr>\n",
       "    <tr>\n",
       "      <th>2</th>\n",
       "      <td>95</td>\n",
       "      <td>AUGUCUACUUAGCUGUCUUUGA</td>\n",
       "      <td>UFM1</td>\n",
       "      <td>ubiquitin fold modifier 1</td>\n",
       "    </tr>\n",
       "    <tr>\n",
       "      <th>3</th>\n",
       "      <td>94</td>\n",
       "      <td>AUGUCUACUUAGCUGUCUUUGA</td>\n",
       "      <td>ASB15</td>\n",
       "      <td>ankyrin repeat and SOCS box containing 15</td>\n",
       "    </tr>\n",
       "    <tr>\n",
       "      <th>4</th>\n",
       "      <td>94</td>\n",
       "      <td>AUGUCUACUUAGCUGUCUUUGA</td>\n",
       "      <td>SPIN2A</td>\n",
       "      <td>spindlin family member 2A</td>\n",
       "    </tr>\n",
       "  </tbody>\n",
       "</table>\n",
       "</div>"
      ],
      "text/plain": [
       "   Target Rank                Sequence Gene Symbol  \\\n",
       "0          100  AUGUCUACUUAGCUGUCUUUGA       SPIN1   \n",
       "1           95  AUGUCUACUUAGCUGUCUUUGA      PTPN11   \n",
       "2           95  AUGUCUACUUAGCUGUCUUUGA        UFM1   \n",
       "3           94  AUGUCUACUUAGCUGUCUUUGA       ASB15   \n",
       "4           94  AUGUCUACUUAGCUGUCUUUGA      SPIN2A   \n",
       "\n",
       "                                    Gene Description  \n",
       "0                                         spindlin 1  \n",
       "1  protein tyrosine phosphatase, non-receptor typ...  \n",
       "2                          ubiquitin fold modifier 1  \n",
       "3          ankyrin repeat and SOCS box containing 15  \n",
       "4                          spindlin family member 2A  "
      ]
     },
     "execution_count": 15,
     "metadata": {},
     "output_type": "execute_result"
    }
   ],
   "source": [
    "target_df = pd.read_csv(\"../targets/mirdb_targets_for_mirnafold.csv\")\n",
    "target_df.head()"
   ]
  },
  {
   "cell_type": "markdown",
   "id": "peaceful-conversion",
   "metadata": {},
   "source": [
    "Selecting unique genes:"
   ]
  },
  {
   "cell_type": "code",
   "execution_count": 61,
   "id": "voluntary-malawi",
   "metadata": {},
   "outputs": [],
   "source": [
    "unique_miRNAFold_targets = target_df['Gene Symbol'].unique()\n",
    "unique_miRNAFold_targets = pd.DataFrame(unique_miRNAFold_targets, columns = ['Gene symbol'])"
   ]
  },
  {
   "cell_type": "code",
   "execution_count": 64,
   "id": "korean-bangladesh",
   "metadata": {},
   "outputs": [
    {
     "name": "stdout",
     "output_type": "stream",
     "text": [
      "With miRDB have discovered 8197 unique targets for the miRNAs filtered from miRNAFold predicted precursors.\n"
     ]
    }
   ],
   "source": [
    "print(f\"With miRDB have discovered {unique_miRNAFold_targets.shape[0]} unique targets for the miRNAs filtered from miRNAFold predicted precursors.\")"
   ]
  },
  {
   "cell_type": "code",
   "execution_count": 66,
   "id": "hazardous-benefit",
   "metadata": {},
   "outputs": [],
   "source": [
    "pd.DataFrame(unique_miRNAFold_targets).to_csv(\"list_targets_by_miRDB_for_miRNAFold\",header = False, index = False)"
   ]
  },
  {
   "cell_type": "markdown",
   "id": "latest-patch",
   "metadata": {},
   "source": [
    "* ## VMir pipeline"
   ]
  },
  {
   "cell_type": "code",
   "execution_count": 19,
   "id": "convertible-flood",
   "metadata": {},
   "outputs": [
    {
     "data": {
      "text/html": [
       "<div>\n",
       "<style scoped>\n",
       "    .dataframe tbody tr th:only-of-type {\n",
       "        vertical-align: middle;\n",
       "    }\n",
       "\n",
       "    .dataframe tbody tr th {\n",
       "        vertical-align: top;\n",
       "    }\n",
       "\n",
       "    .dataframe thead th {\n",
       "        text-align: right;\n",
       "    }\n",
       "</style>\n",
       "<table border=\"1\" class=\"dataframe\">\n",
       "  <thead>\n",
       "    <tr style=\"text-align: right;\">\n",
       "      <th></th>\n",
       "      <th>sequence</th>\n",
       "      <th>strand</th>\n",
       "    </tr>\n",
       "  </thead>\n",
       "  <tbody>\n",
       "    <tr>\n",
       "      <th>0</th>\n",
       "      <td>AUUUUUAUAUAAACCAAAAACU</td>\n",
       "      <td>5'</td>\n",
       "    </tr>\n",
       "    <tr>\n",
       "      <th>1</th>\n",
       "      <td>AGUGCAUCUUGAUCCUCAUAAC</td>\n",
       "      <td>3'</td>\n",
       "    </tr>\n",
       "    <tr>\n",
       "      <th>2</th>\n",
       "      <td>AUGAAGAAGGUAACAUGUUCAA</td>\n",
       "      <td>3'</td>\n",
       "    </tr>\n",
       "    <tr>\n",
       "      <th>3</th>\n",
       "      <td>UCAACAAUUUUAUUGUAGAUGA</td>\n",
       "      <td>5'</td>\n",
       "    </tr>\n",
       "    <tr>\n",
       "      <th>4</th>\n",
       "      <td>ACUGUGUUAUGUAUGCAUCAGC</td>\n",
       "      <td>3'</td>\n",
       "    </tr>\n",
       "  </tbody>\n",
       "</table>\n",
       "</div>"
      ],
      "text/plain": [
       "                 sequence strand\n",
       "0  AUUUUUAUAUAAACCAAAAACU     5'\n",
       "1  AGUGCAUCUUGAUCCUCAUAAC     3'\n",
       "2  AUGAAGAAGGUAACAUGUUCAA     3'\n",
       "3  UCAACAAUUUUAUUGUAGAUGA     5'\n",
       "4  ACUGUGUUAUGUAUGCAUCAGC     3'"
      ]
     },
     "execution_count": 19,
     "metadata": {},
     "output_type": "execute_result"
    }
   ],
   "source": [
    "mature_mirnas_vmir = pd.read_csv(\"../mature-miRNAs/mature-mirnas-from-vmir.csv\")\n",
    "mature_mirnas_vmir.head()"
   ]
  },
  {
   "cell_type": "code",
   "execution_count": 50,
   "id": "traditional-investigation",
   "metadata": {},
   "outputs": [
    {
     "data": {
      "text/html": [
       "<div>\n",
       "<style scoped>\n",
       "    .dataframe tbody tr th:only-of-type {\n",
       "        vertical-align: middle;\n",
       "    }\n",
       "\n",
       "    .dataframe tbody tr th {\n",
       "        vertical-align: top;\n",
       "    }\n",
       "\n",
       "    .dataframe thead th {\n",
       "        text-align: right;\n",
       "    }\n",
       "</style>\n",
       "<table border=\"1\" class=\"dataframe\">\n",
       "  <thead>\n",
       "    <tr style=\"text-align: right;\">\n",
       "      <th></th>\n",
       "      <th>Target Rank</th>\n",
       "      <th>Sequence</th>\n",
       "      <th>Gene Symbol</th>\n",
       "      <th>Gene Description</th>\n",
       "    </tr>\n",
       "  </thead>\n",
       "  <tbody>\n",
       "    <tr>\n",
       "      <th>0</th>\n",
       "      <td>1</td>\n",
       "      <td>AUUUUUAUAUAAACCAAAAACU</td>\n",
       "      <td>KLHL5</td>\n",
       "      <td>kelch like family member 5</td>\n",
       "    </tr>\n",
       "    <tr>\n",
       "      <th>1</th>\n",
       "      <td>2</td>\n",
       "      <td>AUUUUUAUAUAAACCAAAAACU</td>\n",
       "      <td>TWSG1</td>\n",
       "      <td>twisted gastrulation BMP signaling modulator 1</td>\n",
       "    </tr>\n",
       "    <tr>\n",
       "      <th>2</th>\n",
       "      <td>3</td>\n",
       "      <td>AUUUUUAUAUAAACCAAAAACU</td>\n",
       "      <td>RBMS3</td>\n",
       "      <td>RNA binding motif single stranded interacting ...</td>\n",
       "    </tr>\n",
       "    <tr>\n",
       "      <th>3</th>\n",
       "      <td>4</td>\n",
       "      <td>AUUUUUAUAUAAACCAAAAACU</td>\n",
       "      <td>PLOD2</td>\n",
       "      <td>procollagen-lysine,2-oxoglutarate 5-dioxygenase 2</td>\n",
       "    </tr>\n",
       "    <tr>\n",
       "      <th>4</th>\n",
       "      <td>5</td>\n",
       "      <td>AUUUUUAUAUAAACCAAAAACU</td>\n",
       "      <td>DGKH</td>\n",
       "      <td>diacylglycerol kinase eta</td>\n",
       "    </tr>\n",
       "  </tbody>\n",
       "</table>\n",
       "</div>"
      ],
      "text/plain": [
       "   Target Rank                Sequence Gene Symbol  \\\n",
       "0            1  AUUUUUAUAUAAACCAAAAACU       KLHL5   \n",
       "1            2  AUUUUUAUAUAAACCAAAAACU       TWSG1   \n",
       "2            3  AUUUUUAUAUAAACCAAAAACU       RBMS3   \n",
       "3            4  AUUUUUAUAUAAACCAAAAACU       PLOD2   \n",
       "4            5  AUUUUUAUAUAAACCAAAAACU        DGKH   \n",
       "\n",
       "                                    Gene Description  \n",
       "0                         kelch like family member 5  \n",
       "1     twisted gastrulation BMP signaling modulator 1  \n",
       "2  RNA binding motif single stranded interacting ...  \n",
       "3  procollagen-lysine,2-oxoglutarate 5-dioxygenase 2  \n",
       "4                          diacylglycerol kinase eta  "
      ]
     },
     "execution_count": 50,
     "metadata": {},
     "output_type": "execute_result"
    }
   ],
   "source": [
    "# reading in mRDB output\n",
    "vmir_target_df = pd.read_csv(\"../targets/mirdb_targets_for_vmir.csv\")\n",
    "vmir_target_df.head()"
   ]
  },
  {
   "cell_type": "code",
   "execution_count": 59,
   "id": "greenhouse-mitchell",
   "metadata": {},
   "outputs": [],
   "source": [
    "# select unique targets\n",
    "unique_vmir_targets = vmir_target_df['Gene Symbol'].unique()\n",
    "unique_vmir_targets = pd.DataFrame(unique_vmir_targets, columns = ['Gene symbol'])"
   ]
  },
  {
   "cell_type": "code",
   "execution_count": 52,
   "id": "demographic-classification",
   "metadata": {},
   "outputs": [
    {
     "name": "stdout",
     "output_type": "stream",
     "text": [
      "With miRDB have discovered 4582 unique targets for the miRNAs filtered from VMir predicted precursors.\n"
     ]
    }
   ],
   "source": [
    "print(f\"With miRDB have discovered {unique_vmir_targets.shape[0]} unique targets for the miRNAs filtered from VMir predicted precursors.\")"
   ]
  },
  {
   "cell_type": "code",
   "execution_count": 81,
   "id": "analyzed-merit",
   "metadata": {},
   "outputs": [],
   "source": [
    "pd.DataFrame(unique_vmir_targets).to_csv(\"list_targets_by_miRDB_for_VMir\",header = False, index = False)"
   ]
  },
  {
   "cell_type": "code",
   "execution_count": 72,
   "id": "gorgeous-casino",
   "metadata": {},
   "outputs": [],
   "source": [
    "common_targets = unique_vmir_targets.merge(right = unique_miRNAFold_targets, how = 'inner', on = 'Gene symbol')"
   ]
  },
  {
   "cell_type": "code",
   "execution_count": 73,
   "id": "likely-gateway",
   "metadata": {},
   "outputs": [
    {
     "name": "stdout",
     "output_type": "stream",
     "text": [
      "There are 3338 common targets obtained from both pipelines.\n"
     ]
    }
   ],
   "source": [
    "print(f'There are {common_targets.shape[0]} common targets obtained from both pipelines.')"
   ]
  },
  {
   "cell_type": "code",
   "execution_count": 74,
   "id": "suspended-address",
   "metadata": {},
   "outputs": [],
   "source": [
    "common_targets.to_csv(\"common_targets\",header = False, index = False)"
   ]
  }
 ],
 "metadata": {
  "kernelspec": {
   "display_name": "Python 3",
   "language": "python",
   "name": "python3"
  },
  "language_info": {
   "codemirror_mode": {
    "name": "ipython",
    "version": 3
   },
   "file_extension": ".py",
   "mimetype": "text/x-python",
   "name": "python",
   "nbconvert_exporter": "python",
   "pygments_lexer": "ipython3",
   "version": "3.6.12"
  }
 },
 "nbformat": 4,
 "nbformat_minor": 5
}
