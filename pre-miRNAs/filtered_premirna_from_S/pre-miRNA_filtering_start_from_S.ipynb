{
 "cells": [
  {
   "cell_type": "code",
   "execution_count": 1,
   "metadata": {},
   "outputs": [
    {
     "data": {
      "text/plain": [
       "-0.8880952380952382"
      ]
     },
     "execution_count": 1,
     "metadata": {},
     "output_type": "execute_result"
    }
   ],
   "source": [
    "string = 'GAUUGCUGCAGUCAUAACAAGAGAAGUGGGUUUUGUCGUGCCUGGUUUGCCUGGCACGAUAUUACGCACAACUAAUGGUGACUUUUUGCAUUUC'\n",
    "\n",
    "def mfei_calculation(precursor, mfe):\n",
    "    g_and_c = (precursor.count('G')+precursor.count('C'))/len(precursor)\n",
    "    return mfe/len(precursor)/g_and_c\n",
    "\n",
    "mfei_calculation(string,-37.3)"
   ]
  },
  {
   "cell_type": "code",
   "execution_count": 3,
   "metadata": {},
   "outputs": [],
   "source": [
    "file = open('miRNAFold_hairpins_starting_from_S_gene.txt')\n",
    "\n",
    "new_file = []\n",
    "i = 0\n",
    "for line in file:\n",
    "    new_file.append(line.split())"
   ]
  },
  {
   "cell_type": "code",
   "execution_count": 4,
   "metadata": {},
   "outputs": [],
   "source": [
    "line = 0\n",
    "mfe = []\n",
    "sequences = []\n",
    "while line < len(new_file):\n",
    "    try:\n",
    "        if line%2 == 0:\n",
    "            mfe.append(new_file[line][2])\n",
    "            sequences.append(new_file[line+1])\n",
    "            line +=8\n",
    "    except:\n",
    "        break"
   ]
  },
  {
   "cell_type": "code",
   "execution_count": 6,
   "metadata": {},
   "outputs": [],
   "source": [
    "import ast\n",
    "mfe = [ast.literal_eval(i) for i in mfe]\n"
   ]
  },
  {
   "cell_type": "code",
   "execution_count": 7,
   "metadata": {},
   "outputs": [],
   "source": [
    "mfe = [i[0] for i in mfe]\n",
    "sequences = [i[0] for i in sequences]"
   ]
  },
  {
   "cell_type": "code",
   "execution_count": 8,
   "metadata": {},
   "outputs": [],
   "source": [
    "import pandas as pd\n",
    "#pd.set_option('display.max_colwidth', None)\n",
    "df = pd.DataFrame(list(zip(mfe, sequences)), columns =['MFE', 'pre-miRNA candidate seq'])"
   ]
  },
  {
   "cell_type": "code",
   "execution_count": 9,
   "metadata": {},
   "outputs": [
    {
     "data": {
      "text/html": [
       "<div>\n",
       "<style scoped>\n",
       "    .dataframe tbody tr th:only-of-type {\n",
       "        vertical-align: middle;\n",
       "    }\n",
       "\n",
       "    .dataframe tbody tr th {\n",
       "        vertical-align: top;\n",
       "    }\n",
       "\n",
       "    .dataframe thead th {\n",
       "        text-align: right;\n",
       "    }\n",
       "</style>\n",
       "<table border=\"1\" class=\"dataframe\">\n",
       "  <thead>\n",
       "    <tr style=\"text-align: right;\">\n",
       "      <th></th>\n",
       "      <th>MFE</th>\n",
       "      <th>pre-miRNA candidate seq</th>\n",
       "    </tr>\n",
       "  </thead>\n",
       "  <tbody>\n",
       "    <tr>\n",
       "      <th>0</th>\n",
       "      <td>-15.4</td>\n",
       "      <td>GUCAGUGUGUUAAUCUUACAACCAGAACUCAAUUACCCCCUGCAUA...</td>\n",
       "    </tr>\n",
       "    <tr>\n",
       "      <th>1</th>\n",
       "      <td>-23.4</td>\n",
       "      <td>ACUAAUUCUUUCACACGUGGUGUUUAUUACCCUGACAAAGUUUUCA...</td>\n",
       "    </tr>\n",
       "    <tr>\n",
       "      <th>2</th>\n",
       "      <td>-32.0</td>\n",
       "      <td>CAGGACUUGUUCUUACCUUUCUUUUCCAAUGUUACUUGGUUCCAUG...</td>\n",
       "    </tr>\n",
       "    <tr>\n",
       "      <th>3</th>\n",
       "      <td>-12.5</td>\n",
       "      <td>AAUGGUACUAAGAGGUUUGAUAACCCUGUCCUACCAUU</td>\n",
       "    </tr>\n",
       "    <tr>\n",
       "      <th>4</th>\n",
       "      <td>-16.9</td>\n",
       "      <td>UGGUGUUUAUUUUGCUUCCACUGAGAAGUCUAACAUAAUAAGAGGC...</td>\n",
       "    </tr>\n",
       "    <tr>\n",
       "      <th>...</th>\n",
       "      <td>...</td>\n",
       "      <td>...</td>\n",
       "    </tr>\n",
       "    <tr>\n",
       "      <th>134</th>\n",
       "      <td>-17.3</td>\n",
       "      <td>AGAUGUAGUUAACUUUAAUCUCACAUAGCAAUCUUUAAUCAGUGUG...</td>\n",
       "    </tr>\n",
       "    <tr>\n",
       "      <th>135</th>\n",
       "      <td>-30.4</td>\n",
       "      <td>GUAGUUAACUUUAAUCUCACAUAGCAAUCUUUAAUCAGUGUGUAAC...</td>\n",
       "    </tr>\n",
       "    <tr>\n",
       "      <th>136</th>\n",
       "      <td>-22.9</td>\n",
       "      <td>UAGGGAGGACUUGAAAGAGCCACCACAUUUUCACCGAGGCCACGCG...</td>\n",
       "    </tr>\n",
       "    <tr>\n",
       "      <th>137</th>\n",
       "      <td>-19.2</td>\n",
       "      <td>UUUUCACCGAGGCCACGCGGAGUACGAUCGAGUGUACAGUGAACAA...</td>\n",
       "    </tr>\n",
       "    <tr>\n",
       "      <th>138</th>\n",
       "      <td>-21.4</td>\n",
       "      <td>CUAGGGAGAGCUGCCUAUAUGGAAGAGCCCUAAUGUGUAAAAUUAA...</td>\n",
       "    </tr>\n",
       "  </tbody>\n",
       "</table>\n",
       "<p>139 rows × 2 columns</p>\n",
       "</div>"
      ],
      "text/plain": [
       "      MFE                            pre-miRNA candidate seq\n",
       "0   -15.4  GUCAGUGUGUUAAUCUUACAACCAGAACUCAAUUACCCCCUGCAUA...\n",
       "1   -23.4  ACUAAUUCUUUCACACGUGGUGUUUAUUACCCUGACAAAGUUUUCA...\n",
       "2   -32.0  CAGGACUUGUUCUUACCUUUCUUUUCCAAUGUUACUUGGUUCCAUG...\n",
       "3   -12.5             AAUGGUACUAAGAGGUUUGAUAACCCUGUCCUACCAUU\n",
       "4   -16.9  UGGUGUUUAUUUUGCUUCCACUGAGAAGUCUAACAUAAUAAGAGGC...\n",
       "..    ...                                                ...\n",
       "134 -17.3  AGAUGUAGUUAACUUUAAUCUCACAUAGCAAUCUUUAAUCAGUGUG...\n",
       "135 -30.4  GUAGUUAACUUUAAUCUCACAUAGCAAUCUUUAAUCAGUGUGUAAC...\n",
       "136 -22.9  UAGGGAGGACUUGAAAGAGCCACCACAUUUUCACCGAGGCCACGCG...\n",
       "137 -19.2  UUUUCACCGAGGCCACGCGGAGUACGAUCGAGUGUACAGUGAACAA...\n",
       "138 -21.4  CUAGGGAGAGCUGCCUAUAUGGAAGAGCCCUAAUGUGUAAAAUUAA...\n",
       "\n",
       "[139 rows x 2 columns]"
      ]
     },
     "execution_count": 9,
     "metadata": {},
     "output_type": "execute_result"
    }
   ],
   "source": [
    "df"
   ]
  },
  {
   "cell_type": "code",
   "execution_count": 10,
   "metadata": {},
   "outputs": [],
   "source": [
    "mfeis = [mfei_calculation(sequences[i], mfe[i]) for i in range(len(mfe))]\n",
    "df['MFEIS'] = mfeis"
   ]
  },
  {
   "cell_type": "code",
   "execution_count": 11,
   "metadata": {},
   "outputs": [
    {
     "data": {
      "text/html": [
       "<div>\n",
       "<style scoped>\n",
       "    .dataframe tbody tr th:only-of-type {\n",
       "        vertical-align: middle;\n",
       "    }\n",
       "\n",
       "    .dataframe tbody tr th {\n",
       "        vertical-align: top;\n",
       "    }\n",
       "\n",
       "    .dataframe thead th {\n",
       "        text-align: right;\n",
       "    }\n",
       "</style>\n",
       "<table border=\"1\" class=\"dataframe\">\n",
       "  <thead>\n",
       "    <tr style=\"text-align: right;\">\n",
       "      <th></th>\n",
       "      <th>MFE</th>\n",
       "      <th>pre-miRNA candidate seq</th>\n",
       "      <th>MFEIS</th>\n",
       "    </tr>\n",
       "  </thead>\n",
       "  <tbody>\n",
       "    <tr>\n",
       "      <th>0</th>\n",
       "      <td>-15.4</td>\n",
       "      <td>GUCAGUGUGUUAAUCUUACAACCAGAACUCAAUUACCCCCUGCAUA...</td>\n",
       "      <td>-0.452941</td>\n",
       "    </tr>\n",
       "    <tr>\n",
       "      <th>1</th>\n",
       "      <td>-23.4</td>\n",
       "      <td>ACUAAUUCUUUCACACGUGGUGUUUAUUACCCUGACAAAGUUUUCA...</td>\n",
       "      <td>-0.600000</td>\n",
       "    </tr>\n",
       "    <tr>\n",
       "      <th>2</th>\n",
       "      <td>-32.0</td>\n",
       "      <td>CAGGACUUGUUCUUACCUUUCUUUUCCAAUGUUACUUGGUUCCAUG...</td>\n",
       "      <td>-0.820513</td>\n",
       "    </tr>\n",
       "    <tr>\n",
       "      <th>3</th>\n",
       "      <td>-12.5</td>\n",
       "      <td>AAUGGUACUAAGAGGUUUGAUAACCCUGUCCUACCAUU</td>\n",
       "      <td>-0.833333</td>\n",
       "    </tr>\n",
       "    <tr>\n",
       "      <th>4</th>\n",
       "      <td>-16.9</td>\n",
       "      <td>UGGUGUUUAUUUUGCUUCCACUGAGAAGUCUAACAUAAUAAGAGGC...</td>\n",
       "      <td>-0.433333</td>\n",
       "    </tr>\n",
       "  </tbody>\n",
       "</table>\n",
       "</div>"
      ],
      "text/plain": [
       "    MFE                            pre-miRNA candidate seq     MFEIS\n",
       "0 -15.4  GUCAGUGUGUUAAUCUUACAACCAGAACUCAAUUACCCCCUGCAUA... -0.452941\n",
       "1 -23.4  ACUAAUUCUUUCACACGUGGUGUUUAUUACCCUGACAAAGUUUUCA... -0.600000\n",
       "2 -32.0  CAGGACUUGUUCUUACCUUUCUUUUCCAAUGUUACUUGGUUCCAUG... -0.820513\n",
       "3 -12.5             AAUGGUACUAAGAGGUUUGAUAACCCUGUCCUACCAUU -0.833333\n",
       "4 -16.9  UGGUGUUUAUUUUGCUUCCACUGAGAAGUCUAACAUAAUAAGAGGC... -0.433333"
      ]
     },
     "execution_count": 11,
     "metadata": {},
     "output_type": "execute_result"
    }
   ],
   "source": [
    "df.head()"
   ]
  },
  {
   "cell_type": "code",
   "execution_count": 12,
   "metadata": {},
   "outputs": [],
   "source": [
    "filtered = df[df['MFEIS'] < -0.85]"
   ]
  },
  {
   "cell_type": "code",
   "execution_count": 13,
   "metadata": {},
   "outputs": [],
   "source": [
    "listik = filtered['pre-miRNA candidate seq'].tolist()"
   ]
  },
  {
   "cell_type": "code",
   "execution_count": 14,
   "metadata": {},
   "outputs": [
    {
     "data": {
      "text/plain": [
       "['CUUUUCUUAUGGACCUUGAAGGAAAACAGGGUAAUUUCAAAAAUCUUAGGGAAUUUGUGUUUAAGAAUAUUGAUGGUUAUUUUAAAAUAUAUUCUAAGCACACGCCUAUUAAUUUAGUGCGUGAUCUCCCUCAGGGUUUUUCGGCUUUAG',\n",
       " 'GCAUCAUUUUCCACUUUUAAGUGUUAUGGAGUGUCUCCUACUAAAUUAAAUGAUCUCUGCUUUACUAAUGUCUAUGCAGAUUCAUUUGUAAUUAGAGGUGAUGAAGUCAGACAAAUCGCUCCAGGGCAAACUGGAAAGAUUGC',\n",
       " 'UCAUUUGUAAUUAGAGGUGAUGAAGUCAGACAAAUCGCUCCAGGGCAAACUGGAAAGAUUGCUGAUUAUAAUUAUAAAUUACCAGAUGA',\n",
       " 'CAGAGUAGUAGUACUUUCUUUUGAACUUCUACAUGCACCAGCAACUGUUUGUGGACCUAAAAAGUCUACUAAUUUG',\n",
       " 'AGCAAGUGCACUUGGAAAACUUCAAGAUGUGGUCAACCAAAAUGCACAAGCU',\n",
       " 'AAAGUAUGAGCAGUAUAUAAAAUGGCCAUGGUACAUUUGGCUAGGUUUUAUAGCUGGCUUGAUUGCCAUAGUAAUGGUGACAAUUAUGCUUU',\n",
       " 'UGCAACGAUACCGAUACAAGCCUCACUCCCUUUCGGAUGGCUUAUUGUUGGCGUUGCA',\n",
       " 'GUAACUUCUUCAAUUGUCAUUACUUCAGGUGAUGGCACAACAAGUCCUAUUUCUGAACAUGACUACCAGAUUGGUGGUUAUACUGAAAAAUGGGAAUCUGGAGUAAAAGACUGUGUUGUAUUACACAGUUAC',\n",
       " 'UUGACUUUCAGGUUACUAUAGCAGAGAUAUUACUAAUUAUUAUGAGGACUUUUAAAGUUUCCAUUUGGAAUCUUGAUUACAUCAUAAACCUCAUAAUUAAAAAUUUAUCUAAGUCACUAACUGAGAAUAAAUAUUCUCAA',\n",
       " 'UCAGACAAGAGGAAGUUCAAGAACUUUACUCUCCAAUUUUUCUUAUUGUUGCGGCAAUAGUGUUUAUAACACUUUGCUUCACACUCAAAAGAAAGACAGAAUGAUUGAACUUUCAUUAAUUGA',\n",
       " 'GGAAGUUCAAGAACUUUACUCUCCAAUUUUUCUUAUUGUUGCGGCAAUAGUGUUUAUAACACUUUGCUUCACACUCAAAAGAAAGACAGAAUGAUUGAACUUUCAUUAAUUGACUUCU']"
      ]
     },
     "execution_count": 14,
     "metadata": {},
     "output_type": "execute_result"
    }
   ],
   "source": [
    "listik "
   ]
  },
  {
   "cell_type": "code",
   "execution_count": 15,
   "metadata": {},
   "outputs": [
    {
     "name": "stdout",
     "output_type": "stream",
     "text": [
      ">test 0\n",
      "CUUUUCUUAUGGACCUUGAAGGAAAACAGGGUAAUUUCAAAAAUCUUAGGGAAUUUGUGUUUAAGAAUAUUGAUGGUUAUUUUAAAAUAUAUUCUAAGCACACGCCUAUUAAUUUAGUGCGUGAUCUCCCUCAGGGUUUUUCGGCUUUAG\n",
      ">test 1\n",
      "GCAUCAUUUUCCACUUUUAAGUGUUAUGGAGUGUCUCCUACUAAAUUAAAUGAUCUCUGCUUUACUAAUGUCUAUGCAGAUUCAUUUGUAAUUAGAGGUGAUGAAGUCAGACAAAUCGCUCCAGGGCAAACUGGAAAGAUUGC\n",
      ">test 2\n",
      "UCAUUUGUAAUUAGAGGUGAUGAAGUCAGACAAAUCGCUCCAGGGCAAACUGGAAAGAUUGCUGAUUAUAAUUAUAAAUUACCAGAUGA\n",
      ">test 3\n",
      "CAGAGUAGUAGUACUUUCUUUUGAACUUCUACAUGCACCAGCAACUGUUUGUGGACCUAAAAAGUCUACUAAUUUG\n",
      ">test 4\n",
      "AGCAAGUGCACUUGGAAAACUUCAAGAUGUGGUCAACCAAAAUGCACAAGCU\n",
      ">test 5\n",
      "AAAGUAUGAGCAGUAUAUAAAAUGGCCAUGGUACAUUUGGCUAGGUUUUAUAGCUGGCUUGAUUGCCAUAGUAAUGGUGACAAUUAUGCUUU\n",
      ">test 6\n",
      "UGCAACGAUACCGAUACAAGCCUCACUCCCUUUCGGAUGGCUUAUUGUUGGCGUUGCA\n",
      ">test 7\n",
      "GUAACUUCUUCAAUUGUCAUUACUUCAGGUGAUGGCACAACAAGUCCUAUUUCUGAACAUGACUACCAGAUUGGUGGUUAUACUGAAAAAUGGGAAUCUGGAGUAAAAGACUGUGUUGUAUUACACAGUUAC\n",
      ">test 8\n",
      "UUGACUUUCAGGUUACUAUAGCAGAGAUAUUACUAAUUAUUAUGAGGACUUUUAAAGUUUCCAUUUGGAAUCUUGAUUACAUCAUAAACCUCAUAAUUAAAAAUUUAUCUAAGUCACUAACUGAGAAUAAAUAUUCUCAA\n",
      ">test 9\n",
      "UCAGACAAGAGGAAGUUCAAGAACUUUACUCUCCAAUUUUUCUUAUUGUUGCGGCAAUAGUGUUUAUAACACUUUGCUUCACACUCAAAAGAAAGACAGAAUGAUUGAACUUUCAUUAAUUGA\n",
      ">test 10\n",
      "GGAAGUUCAAGAACUUUACUCUCCAAUUUUUCUUAUUGUUGCGGCAAUAGUGUUUAUAACACUUUGCUUCACACUCAAAAGAAAGACAGAAUGAUUGAACUUUCAUUAAUUGACUUCU\n"
     ]
    }
   ],
   "source": [
    "for line in range(len(listik)):\n",
    "    print('>test', line)\n",
    "    print(listik[line])"
   ]
  },
  {
   "cell_type": "code",
   "execution_count": 16,
   "metadata": {},
   "outputs": [],
   "source": [
    "#results from this tool http://bioinformatics.hitsz.edu.cn/iMiRNA-SSF/index.jsp\n",
    "classes = ['Real','Real','Real','Pseudo','Pseudo','Real','Pseudo','Real','Pseudo','Real','Real']"
   ]
  },
  {
   "cell_type": "code",
   "execution_count": 17,
   "metadata": {},
   "outputs": [
    {
     "name": "stderr",
     "output_type": "stream",
     "text": [
      "<ipython-input-17-82005fd9e3bb>:1: SettingWithCopyWarning: \n",
      "A value is trying to be set on a copy of a slice from a DataFrame.\n",
      "Try using .loc[row_indexer,col_indexer] = value instead\n",
      "\n",
      "See the caveats in the documentation: https://pandas.pydata.org/pandas-docs/stable/user_guide/indexing.html#returning-a-view-versus-a-copy\n",
      "  filtered['class'] = classes\n"
     ]
    }
   ],
   "source": [
    "filtered['class'] = classes"
   ]
  },
  {
   "cell_type": "code",
   "execution_count": 18,
   "metadata": {},
   "outputs": [
    {
     "data": {
      "text/html": [
       "<div>\n",
       "<style scoped>\n",
       "    .dataframe tbody tr th:only-of-type {\n",
       "        vertical-align: middle;\n",
       "    }\n",
       "\n",
       "    .dataframe tbody tr th {\n",
       "        vertical-align: top;\n",
       "    }\n",
       "\n",
       "    .dataframe thead th {\n",
       "        text-align: right;\n",
       "    }\n",
       "</style>\n",
       "<table border=\"1\" class=\"dataframe\">\n",
       "  <thead>\n",
       "    <tr style=\"text-align: right;\">\n",
       "      <th></th>\n",
       "      <th>MFE</th>\n",
       "      <th>pre-miRNA candidate seq</th>\n",
       "      <th>MFEIS</th>\n",
       "      <th>class</th>\n",
       "    </tr>\n",
       "  </thead>\n",
       "  <tbody>\n",
       "    <tr>\n",
       "      <th>8</th>\n",
       "      <td>-42.9</td>\n",
       "      <td>CUUUUCUUAUGGACCU...</td>\n",
       "      <td>-0.858000</td>\n",
       "      <td>Real</td>\n",
       "    </tr>\n",
       "    <tr>\n",
       "      <th>16</th>\n",
       "      <td>-47.9</td>\n",
       "      <td>GCAUCAUUUUCCACUU...</td>\n",
       "      <td>-0.903774</td>\n",
       "      <td>Real</td>\n",
       "    </tr>\n",
       "    <tr>\n",
       "      <th>17</th>\n",
       "      <td>-27.3</td>\n",
       "      <td>UCAUUUGUAAUUAGAG...</td>\n",
       "      <td>-0.880645</td>\n",
       "      <td>Real</td>\n",
       "    </tr>\n",
       "    <tr>\n",
       "      <th>24</th>\n",
       "      <td>-25.2</td>\n",
       "      <td>CAGAGUAGUAGUACUU...</td>\n",
       "      <td>-0.900000</td>\n",
       "      <td>Pseudo</td>\n",
       "    </tr>\n",
       "    <tr>\n",
       "      <th>48</th>\n",
       "      <td>-19.3</td>\n",
       "      <td>AGCAAGUGCACUUGGA...</td>\n",
       "      <td>-0.877273</td>\n",
       "      <td>Pseudo</td>\n",
       "    </tr>\n",
       "    <tr>\n",
       "      <th>64</th>\n",
       "      <td>-28.1</td>\n",
       "      <td>AAAGUAUGAGCAGUAU...</td>\n",
       "      <td>-0.851515</td>\n",
       "      <td>Real</td>\n",
       "    </tr>\n",
       "    <tr>\n",
       "      <th>71</th>\n",
       "      <td>-25.0</td>\n",
       "      <td>UGCAACGAUACCGAUA...</td>\n",
       "      <td>-0.862069</td>\n",
       "      <td>Pseudo</td>\n",
       "    </tr>\n",
       "    <tr>\n",
       "      <th>77</th>\n",
       "      <td>-43.7</td>\n",
       "      <td>GUAACUUCUUCAAUUG...</td>\n",
       "      <td>-0.891837</td>\n",
       "      <td>Real</td>\n",
       "    </tr>\n",
       "    <tr>\n",
       "      <th>96</th>\n",
       "      <td>-30.7</td>\n",
       "      <td>UUGACUUUCAGGUUAC...</td>\n",
       "      <td>-0.852778</td>\n",
       "      <td>Pseudo</td>\n",
       "    </tr>\n",
       "    <tr>\n",
       "      <th>106</th>\n",
       "      <td>-39.4</td>\n",
       "      <td>UCAGACAAGAGGAAGU...</td>\n",
       "      <td>-0.985000</td>\n",
       "      <td>Real</td>\n",
       "    </tr>\n",
       "    <tr>\n",
       "      <th>107</th>\n",
       "      <td>-36.7</td>\n",
       "      <td>GGAAGUUCAAGAACUU...</td>\n",
       "      <td>-0.965789</td>\n",
       "      <td>Real</td>\n",
       "    </tr>\n",
       "  </tbody>\n",
       "</table>\n",
       "</div>"
      ],
      "text/plain": [
       "      MFE pre-miRNA candidate seq     MFEIS   class\n",
       "8   -42.9  CUUUUCUUAUGGACCU...    -0.858000    Real\n",
       "16  -47.9  GCAUCAUUUUCCACUU...    -0.903774    Real\n",
       "17  -27.3  UCAUUUGUAAUUAGAG...    -0.880645    Real\n",
       "24  -25.2  CAGAGUAGUAGUACUU...    -0.900000  Pseudo\n",
       "48  -19.3  AGCAAGUGCACUUGGA...    -0.877273  Pseudo\n",
       "64  -28.1  AAAGUAUGAGCAGUAU...    -0.851515    Real\n",
       "71  -25.0  UGCAACGAUACCGAUA...    -0.862069  Pseudo\n",
       "77  -43.7  GUAACUUCUUCAAUUG...    -0.891837    Real\n",
       "96  -30.7  UUGACUUUCAGGUUAC...    -0.852778  Pseudo\n",
       "106 -39.4  UCAGACAAGAGGAAGU...    -0.985000    Real\n",
       "107 -36.7  GGAAGUUCAAGAACUU...    -0.965789    Real"
      ]
     },
     "execution_count": 18,
     "metadata": {},
     "output_type": "execute_result"
    }
   ],
   "source": [
    "pd.set_option('display.max_colwidth', 20)\n",
    "filtered"
   ]
  },
  {
   "cell_type": "code",
   "execution_count": 19,
   "metadata": {},
   "outputs": [],
   "source": [
    "filtered.to_csv('mirnafold_output_from_S_filtered.csv',index=False)"
   ]
  },
  {
   "cell_type": "code",
   "execution_count": null,
   "metadata": {},
   "outputs": [],
   "source": []
  }
 ],
 "metadata": {
  "kernelspec": {
   "display_name": "Python 3",
   "language": "python",
   "name": "python3"
  },
  "language_info": {
   "codemirror_mode": {
    "name": "ipython",
    "version": 3
   },
   "file_extension": ".py",
   "mimetype": "text/x-python",
   "name": "python",
   "nbconvert_exporter": "python",
   "pygments_lexer": "ipython3",
   "version": "3.8.5"
  }
 },
 "nbformat": 4,
 "nbformat_minor": 4
}
