{
 "cells": [
  {
   "cell_type": "code",
   "execution_count": 1,
   "metadata": {},
   "outputs": [],
   "source": [
    "import pandas as pd"
   ]
  },
  {
   "cell_type": "markdown",
   "metadata": {},
   "source": [
    "### Do we get novel sequences from running the pipeline on a slice (non-conserved region)? (raw)"
   ]
  },
  {
   "cell_type": "code",
   "execution_count": 43,
   "metadata": {},
   "outputs": [
    {
     "name": "stdout",
     "output_type": "stream",
     "text": [
      "Full-genome total: 775 (VMIR: 256, miRNAFold: 519)\n"
     ]
    }
   ],
   "source": [
    "full_genome_vmir = pd.read_csv('./full-genome/raw/vmir-output.csv')\n",
    "full_genome_mirnafold = pd.read_csv('./full-genome/raw/mirnafold-output.csv')\n",
    "\n",
    "# rename columns for consistency\n",
    "full_genome_vmir.rename(columns={'Sequence':'sequence'}, inplace=True)\n",
    "full_genome_mirnafold.rename(columns={'0':'sequence'}, inplace=True)\n",
    "\n",
    "# combine vmir+mirnafold into single table\n",
    "full_genome = pd.concat([full_genome_vmir, full_genome_mirnafold], ignore_index=True, verify_integrity=True)\n",
    "\n",
    "print(f'Full-genome total: {len(full_genome)} (VMIR: {len(full_genome_vmir)}, miRNAFold: {len(full_genome_mirnafold)})')"
   ]
  },
  {
   "cell_type": "code",
   "execution_count": 44,
   "metadata": {},
   "outputs": [
    {
     "name": "stdout",
     "output_type": "stream",
     "text": [
      "Non-conserved total: 153 (VMIR: 14, miRNAFold: 139)\n"
     ]
    }
   ],
   "source": [
    "non_conserved_region_vmir = pd.read_csv('./non-conserved-region/raw/vmir-output.csv')\n",
    "non_conserved_region_mirnafold = pd.read_csv('./non-conserved-region/raw/mirnafold-output.csv')\n",
    "\n",
    "# rename columns for consistency\n",
    "non_conserved_region_vmir.rename(columns={'Sequence':'sequence'}, inplace=True)\n",
    "non_conserved_region_mirnafold.rename(columns={'0':'sequence'}, inplace=True)\n",
    "\n",
    "# combine vmir+mirnafold into single table\n",
    "non_conserved = pd.concat([non_conserved_region_vmir, non_conserved_region_mirnafold], ignore_index=True, verify_integrity=True)\n",
    "\n",
    "print(f'Non-conserved total: {len(non_conserved)} (VMIR: {len(non_conserved_region_vmir)}, miRNAFold: {len(non_conserved_region_mirnafold)})')"
   ]
  },
  {
   "cell_type": "code",
   "execution_count": 45,
   "metadata": {},
   "outputs": [
    {
     "name": "stdout",
     "output_type": "stream",
     "text": [
      "Found 6 new sequences in non-conserved region 😅\n",
      "Vmir: 1 miRNAFold: 5\n"
     ]
    }
   ],
   "source": [
    "full_genome_seqs = set(full_genome.sequence)\n",
    "non_conserved_seqs = set(non_conserved.sequence)\n",
    "\n",
    "combination = full_genome_seqs.union(non_conserved_seqs)\n",
    "new_non_conserved = combination.difference(full_genome_seqs)\n",
    "print(f'Found {len(new_non_conserved)} new sequences in non-conserved region 😅')\n",
    "\n",
    "vmir = 0\n",
    "mirnafold = 0\n",
    "\n",
    "for sequence in new_non_conserved:\n",
    "    if sequence in list(non_conserved_region_vmir.sequence):\n",
    "        vmir += 1\n",
    "    if sequence in list(non_conserved_region_mirnafold.sequence):\n",
    "        mirnafold += 1\n",
    "        \n",
    "print(f'Vmir: {vmir} miRNAFold: {mirnafold}')"
   ]
  },
  {
   "cell_type": "markdown",
   "metadata": {},
   "source": [
    "### Do we get novel sequences from a slice (non-conserved region)? (after filtering)"
   ]
  },
  {
   "cell_type": "code",
   "execution_count": 37,
   "metadata": {},
   "outputs": [
    {
     "name": "stdout",
     "output_type": "stream",
     "text": [
      "Full-genome total: 37 (VMIR: 10, miRNAFold: 27)\n"
     ]
    }
   ],
   "source": [
    "full_genome_vmir_filtered = pd.read_csv('./full-genome/filtered/vmir_output_filtered.csv')\n",
    "full_genome_vmir_filtered.rename(columns={'Sequence':'sequence'}, inplace=True)\n",
    "full_genome_mirnafold_filtered = pd.read_csv('./full-genome/filtered/filtered-pre-mirnas.csv')\n",
    "full_genome_mirnafold_filtered.rename(columns={'pre-miRNA candidate seq':'sequence', 'MFE':'mfe', 'MFEIS':'mfeis'}, inplace=True)\n",
    "full_genome_filtered = pd.concat([full_genome_vmir_filtered, full_genome_mirnafold_filtered], ignore_index=True, verify_integrity=True)\n",
    "\n",
    "print(f'Full-genome total: {len(full_genome_filtered)} (VMIR: {len(full_genome_vmir_filtered)}, miRNAFold: {len(full_genome_mirnafold_filtered)})')"
   ]
  },
  {
   "cell_type": "code",
   "execution_count": 38,
   "metadata": {},
   "outputs": [
    {
     "name": "stdout",
     "output_type": "stream",
     "text": [
      "Non-conserved total: 15 (VMIR: 4, miRNAFold: 11)\n"
     ]
    }
   ],
   "source": [
    "non_conserved_region_vmir_filtered = pd.read_csv('./non-conserved-region/filtered/vmir_output_from_S_filtered.csv')\n",
    "non_conserved_region_mirnafold_filtered = pd.read_csv('./non-conserved-region/filtered/mirnafold_output_from_S_filtered.csv')\n",
    "non_conserved_region_mirnafold_filtered.rename(columns={'pre-miRNA candidate seq':'sequence', 'MFE':'mfe', 'MFEIS':'mfeis'}, inplace=True)\n",
    "non_conserved_filtered = pd.concat([non_conserved_region_vmir_filtered, non_conserved_region_mirnafold_filtered], ignore_index=True, verify_integrity=True)\n",
    "\n",
    "print(f'Non-conserved total: {len(non_conserved)} (VMIR: {len(non_conserved_region_vmir)}, miRNAFold: {len(non_conserved_region_mirnafold)})')"
   ]
  },
  {
   "cell_type": "code",
   "execution_count": 39,
   "metadata": {},
   "outputs": [
    {
     "name": "stdout",
     "output_type": "stream",
     "text": [
      "Found 7 new sequences in non-conserved region 😅\n",
      "Vmir: 3 miRNAFold: 4\n"
     ]
    }
   ],
   "source": [
    "full_genome_seqs_filtered = set(full_genome_filtered.sequence)\n",
    "non_conserved_seqs_filtered = set(non_conserved_filtered.sequence)\n",
    "\n",
    "combination_filtered = full_genome_seqs_filtered.union(non_conserved_seqs_filtered)\n",
    "new_non_conserved_filtered = combination_filtered.difference(full_genome_seqs_filtered)\n",
    "print(f'Found {len(new_non_conserved_filtered)} new sequences in non-conserved region 😅')\n",
    "\n",
    "vmir_filtered = 0\n",
    "mirnafold_filtered = 0\n",
    "\n",
    "for sequence in new_non_conserved_filtered:\n",
    "    if sequence in list(non_conserved_region_vmir_filtered.sequence):\n",
    "        vmir_filtered += 1\n",
    "    if sequence in list(non_conserved_region_mirnafold_filtered.sequence):\n",
    "        mirnafold_filtered += 1\n",
    "        \n",
    "print(f'Vmir: {vmir_filtered} miRNAFold: {mirnafold_filtered}')"
   ]
  },
  {
   "cell_type": "code",
   "execution_count": null,
   "metadata": {},
   "outputs": [],
   "source": []
  },
  {
   "cell_type": "markdown",
   "metadata": {},
   "source": [
    "## Does filtering pre-miRNAs add new sequences? (full genome)"
   ]
  },
  {
   "cell_type": "code",
   "execution_count": 54,
   "metadata": {},
   "outputs": [
    {
     "data": {
      "text/plain": [
       "{'AAAGUAUGAGCAGUAUAUAAAAUGGCCAUGGUACAUUUGGCUAGGUUUUAUAGCUGGCUUGAUUGCCAUAGUAAUGGUGACAAUUAUGCUUU',\n",
       " 'AACCUGCUUCAAGAGAGCUUAAAGUUACAUUUUUCCCUGACUUAAAUGGUGAUGUGGUGGCUAUUGAUUAUAAACACUACACACCCUCUUUUAAGAAAGGAGCUAAAUUGUUACAUAAACCUAUUGUUUGGCAUGUU',\n",
       " 'AGCGAUUAUGACUACUAUCGUUAUAAUCUACCAACAAUGUGUGAUAUCAGACAACUACUAUUUGUAGUUGAAGUUGUUGAUAAGUACUUUGAUUGUUACGAUGGUGGCUGUAUUAAUGCU',\n",
       " 'AGGAGUCAAAUGGAAAUUGAUUUCUUAGAAUUAGCUAUGGAUGAAUUCAUUGAACGGUAUAAAUUAGAAGGCUAUGCCUUCGAACAUAUCGUUUAUGGAGAUUUUAGUCAUAGUCAGUUAGGUGGUUUACAUCUACUGAUUGGACU',\n",
       " 'AUUAAGGGGUACUGCUGUUAUGUCUUUAAAAGAAGGUCAAAUCAAUGAUAUGAUUUUAUCUCUUCUUAGUAAAGGUAGACUUAUAAUUAGAGAAAACAACAGAGUUGUUAUUUCUAGUGAU',\n",
       " 'CAUUAUUUUGGCAUCUUUUUCUGCUUCCACAAGUGCUUUUGUGGAAACUGUGAAAGGUUUGGAUUAUAAAGCAUUCAAACAAAUUGUUGAAUCCUGUGGUAAUUUUAAAGUUACAAAAGGAAAAGCUAAAAAAGGUGCCUGGAAUAUUG',\n",
       " 'CUUUUCUUAUGGACCUUGAAGGAAAACAGGGUAAUUUCAAAAAUCUUAGGGAAUUUGUGUUUAAGAAUAUUGAUGGUUAUUUUAAAAUAUAUUCUAAGCACACGCCUAUUAAUUUAGUGCGUGAUCUCCCUCAGGGUUUUUCGGCUUUAG',\n",
       " 'CUUUUGAAGAAGCUGCGCUGUGCACCUUUUUGUUAAAUAAAGAAAUGUAUCUAAAGUUGCGUAGUGAUGUGCUAUUACCUCUUACGCAAUAUAAUAGAUACUUAGCUCUUUAUAAUAAGUACAAGUAUUUUAGUGGAGCAAUGG',\n",
       " 'GAUUAUGACUACUAUCGUUAUAAUCUACCAACAAUGUGUGAUAUCAGACAACUACUAUUUGUAGUUGAAGUUGUUGAUAAGUACUUUGAUUGUUACGAUGGUGGCUGUAUUAAUGCUAACCAAGUCAUCGUC',\n",
       " 'GCAUCAUUUUCCACUUUUAAGUGUUAUGGAGUGUCUCCUACUAAAUUAAAUGAUCUCUGCUUUACUAAUGUCUAUGCAGAUUCAUUUGUAAUUAGAGGUGAUGAAGUCAGACAAAUCGCUCCAGGGCAAACUGGAAAGAUUGC',\n",
       " 'GGAACUUGUCGGCGUUGUCCUGCUGAAAUUGUUGACACUGUGAGUGCUUUGGUUUAUGAUAAUAAGCUUAAAGCACAUAAAGACAAAUCAGCUCAAUGCUUUAAAAUGUUUU',\n",
       " 'GGAAGUUCAAGAACUUUACUCUCCAAUUUUUCUUAUUGUUGCGGCAAUAGUGUUUAUAACACUUUGCUUCACACUCAAAAGAAAGACAGAAUGAUUGAACUUUCAUUAAUUGACUUCU',\n",
       " 'GGUUCCAUCCAUCUUUACUUUGAUAAAGCUGGUCAAAAGACUUAUGAAAGACAUUCUCUCUCUCAUUUUGUUAACUUAGACAACCUGAGAGCUAAUAACACUAAAGGUUCAUUGCCUAUUAAUGUUAUAGUUUUUGAUGGUAAAUC',\n",
       " 'GUAACUUCUUCAAUUGUCAUUACUUCAGGUGAUGGCACAACAAGUCCUAUUUCUGAACAUGACUACCAGAUUGGUGGUUAUACUGAAAAAUGGGAAUCUGGAGUAAAAGACUGUGUUGUAUUACACAGUUAC',\n",
       " 'UACUUUGCAUAAUGUCUGAUAGAGACCUUUAUGACAAGUUGCAAUUUACAAGUCUUGAAAUUCCACGUAGGAAUGUGGCAACUUUACAAGCUGAAAAUGUAACAGGACUCUUUAAAGAUUGUAGUAAGGUA',\n",
       " 'UAGUUUUAAGGAAUUACUUGUGUAUGCUGCUGACCCUGCUAUGCACGCUGCUUCUGGUAAUCUAUUACUAGAUAAACGCACUACGUGCUUUUCAGUAGCUGCACUUACUAACAAUGUUGCUUUUCAAACUG',\n",
       " 'UAUUUUGGAGGAAUACAAAUCCAAUUCAGUUGUCUUCCUAUUCUUUAUUUGACAUGAGUAAAUUUCCCCUUAAAUUAAGGGGUACUGCUGUUAUGUCUUUAAAAGAAGGUCAAAUCAAUGAUAUGAUUUUAUCUCUUCUUAGUA',\n",
       " 'UCAGACAAGAGGAAGUUCAAGAACUUUACUCUCCAAUUUUUCUUAUUGUUGCGGCAAUAGUGUUUAUAACACUUUGCUUCACACUCAAAAGAAAGACAGAAUGAUUGAACUUUCAUUAAUUGA',\n",
       " 'UCAUUUGUAAUUAGAGGUGAUGAAGUCAGACAAAUCGCUCCAGGGCAAACUGGAAAGAUUGCUGAUUAUAAUUAUAAAUUACCAGAUGA',\n",
       " 'UCUGCUCGCAUAGUGUAUACAGCUUGCUCUCAUGCCGCUGUUGAUGCACUAUGUGAGAAGG',\n",
       " 'UGAACUUGAUGAAAGGAUUGAUAAAGUACUUAAUGAGAAGUGCUCUGCCUAUACAGUUGAACUCGGUACAGAAGUAAAUGAGUUCGCCUGUGUUGUGGCAGAUGCUGUCAUAAAAACUUUGCAACCAGUAUCUGAAUUACUUA',\n",
       " 'UGCUUAUUACAGAGCAAGGGCUGGUGAAGCUGCUAACUUUUGUGCACUUAUCUUAGCCUACUGUAAUAAGACAGUAGGUGAGUUAGGUGAUGUUAGAGAAACAAUGAGUUACUUGUUUCAACAUGCCAAUUUAGAUUCUUGCA',\n",
       " 'UGUCCGCAAUUUACAACACAGACUUUAUGAGUGUCUCUAUAGAAAUAGAGAUGUUGACACAGACUUUGUGAAUGAGUUUUACGCAUAUUUGCGUAAACAUUUCUCAAUGAUGAUACUCUCUGACGAUGCUGUUGUGUGUUUCAAUAGCA',\n",
       " 'UGUGGUCAACCAAAAUGCACAAGCUUUAAACACGCUUGUUAAACAACUUAGCUCCAAUUUUGGUGCAAUUUCAAGUGUUUUAAAUGAUAUCCUUUCACGUCUUGACAAAGUUGAGGCUGAAGUGCAAAUUGAUAGGUUGAUCACA',\n",
       " 'UUAAGUGUGUACCUCAAGCUGAUGUAGAAUGGAAGUUCUAUGAUGCACAGCCUUGUAGUGACAAAGCUUAUAAAAUAGAAGAAUUAUUCUAUUCUUAUGCCACACAUUCUGA',\n",
       " 'UUACUGCAAAAUGGUAUGAAUGGACGUACCAUAUUGGGUAGUGCUUUAUUAGAAGAUGAAUUUACACCUUUUGAUGUUGUUAGACAAUGCUCAGGUGUUACUUUCCAAAGUGCAGUGA',\n",
       " 'UUCGCACAAAUGUCUACUUAGCUGUCUUUGAUAAAAAUCUCUAUGACAAACUUGUUUCAAGCUUUUUGGAAAUGAAGAGUGAAAAGCAAGUUGAACAAAAGAUCGCUGAGAUUCCUAAAGAGGAAGUUAAGCCAUUUAUAACUGAA'}"
      ]
     },
     "execution_count": 54,
     "metadata": {},
     "output_type": "execute_result"
    }
   ],
   "source": [
    "(full_genome_seqs_filtered.union(full_genome_seqs)).difference(full_genome_seqs)"
   ]
  },
  {
   "cell_type": "code",
   "execution_count": 57,
   "metadata": {},
   "outputs": [
    {
     "data": {
      "text/plain": [
       "set()"
      ]
     },
     "execution_count": 57,
     "metadata": {},
     "output_type": "execute_result"
    }
   ],
   "source": [
    "full_genome_seqs_filtered_u_replaced_with_t = set([seq.replace('U', 'T') for seq in full_genome_seqs_filtered])\n",
    "(full_genome_seqs_filtered_u_replaced_with_t.union(full_genome_seqs)).difference(full_genome_seqs)"
   ]
  },
  {
   "cell_type": "markdown",
   "metadata": {},
   "source": [
    "**No new sequences if we transform U<->T. All good!**\n",
    "____"
   ]
  },
  {
   "cell_type": "markdown",
   "metadata": {},
   "source": [
    "## Does filtering pre-miRNAs add new sequences? (non conserved genome)"
   ]
  },
  {
   "cell_type": "code",
   "execution_count": 60,
   "metadata": {},
   "outputs": [
    {
     "data": {
      "text/plain": [
       "{'AAAGUAUGAGCAGUAUAUAAAAUGGCCAUGGUACAUUUGGCUAGGUUUUAUAGCUGGCUUGAUUGCCAUAGUAAUGGUGACAAUUAUGCUUU',\n",
       " 'AGCAAGUGCACUUGGAAAACUUCAAGAUGUGGUCAACCAAAAUGCACAAGCU',\n",
       " 'CAGAGUAGUAGUACUUUCUUUUGAACUUCUACAUGCACCAGCAACUGUUUGUGGACCUAAAAAGUCUACUAAUUUG',\n",
       " 'CUUUUCUUAUGGACCUUGAAGGAAAACAGGGUAAUUUCAAAAAUCUUAGGGAAUUUGUGUUUAAGAAUAUUGAUGGUUAUUUUAAAAUAUAUUCUAAGCACACGCCUAUUAAUUUAGUGCGUGAUCUCCCUCAGGGUUUUUCGGCUUUAG',\n",
       " 'GCAUCAUUUUCCACUUUUAAGUGUUAUGGAGUGUCUCCUACUAAAUUAAAUGAUCUCUGCUUUACUAAUGUCUAUGCAGAUUCAUUUGUAAUUAGAGGUGAUGAAGUCAGACAAAUCGCUCCAGGGCAAACUGGAAAGAUUGC',\n",
       " 'GGAAGUUCAAGAACUUUACUCUCCAAUUUUUCUUAUUGUUGCGGCAAUAGUGUUUAUAACACUUUGCUUCACACUCAAAAGAAAGACAGAAUGAUUGAACUUUCAUUAAUUGACUUCU',\n",
       " 'GUAACUUCUUCAAUUGUCAUUACUUCAGGUGAUGGCACAACAAGUCCUAUUUCUGAACAUGACUACCAGAUUGGUGGUUAUACUGAAAAAUGGGAAUCUGGAGUAAAAGACUGUGUUGUAUUACACAGUUAC',\n",
       " 'UCAGACAAGAGGAAGUUCAAGAACUUUACUCUCCAAUUUUUCUUAUUGUUGCGGCAAUAGUGUUUAUAACACUUUGCUUCACACUCAAAAGAAAGACAGAAUGAUUGAACUUUCAUUAAUUGA',\n",
       " 'UCAUUUGUAAUUAGAGGUGAUGAAGUCAGACAAAUCGCUCCAGGGCAAACUGGAAAGAUUGCUGAUUAUAAUUAUAAAUUACCAGAUGA',\n",
       " 'UGCAACGAUACCGAUACAAGCCUCACUCCCUUUCGGAUGGCUUAUUGUUGGCGUUGCA',\n",
       " 'UUGACUUUCAGGUUACUAUAGCAGAGAUAUUACUAAUUAUUAUGAGGACUUUUAAAGUUUCCAUUUGGAAUCUUGAUUACAUCAUAAACCUCAUAAUUAAAAAUUUAUCUAAGUCACUAACUGAGAAUAAAUAUUCUCAA'}"
      ]
     },
     "execution_count": 60,
     "metadata": {},
     "output_type": "execute_result"
    }
   ],
   "source": [
    "(non_conserved_seqs_filtered.union(non_conserved_seqs)).difference(non_conserved_seqs)"
   ]
  },
  {
   "cell_type": "code",
   "execution_count": 61,
   "metadata": {},
   "outputs": [
    {
     "data": {
      "text/plain": [
       "set()"
      ]
     },
     "execution_count": 61,
     "metadata": {},
     "output_type": "execute_result"
    }
   ],
   "source": [
    "non_conserved_seqs_filtered_u_replaced_with_t = set([seq.replace('U', 'T') for seq in non_conserved_seqs_filtered])\n",
    "(non_conserved_seqs_filtered_u_replaced_with_t.union(non_conserved_seqs)).difference(non_conserved_seqs)"
   ]
  },
  {
   "cell_type": "markdown",
   "metadata": {},
   "source": [
    "**No new sequences if we transform U<->T. All good!**\n",
    "____"
   ]
  },
  {
   "cell_type": "code",
   "execution_count": null,
   "metadata": {},
   "outputs": [],
   "source": []
  }
 ],
 "metadata": {
  "kernelspec": {
   "display_name": "Python 3",
   "language": "python",
   "name": "python3"
  },
  "language_info": {
   "codemirror_mode": {
    "name": "ipython",
    "version": 3
   },
   "file_extension": ".py",
   "mimetype": "text/x-python",
   "name": "python",
   "nbconvert_exporter": "python",
   "pygments_lexer": "ipython3",
   "version": "3.8.3"
  }
 },
 "nbformat": 4,
 "nbformat_minor": 4
}
