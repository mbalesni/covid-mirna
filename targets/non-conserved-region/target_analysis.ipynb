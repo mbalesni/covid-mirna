{
 "cells": [
  {
   "cell_type": "code",
   "execution_count": 8,
   "id": "sustainable-administrator",
   "metadata": {},
   "outputs": [],
   "source": [
    "import pandas as pd\n",
    "import numpy as np\n",
    "import matplotlib.pyplot as plt\n",
    "import os"
   ]
  },
  {
   "cell_type": "code",
   "execution_count": 120,
   "id": "postal-launch",
   "metadata": {},
   "outputs": [],
   "source": [
    "# folder for dataframes of targets given filtered conditions\n",
    "OUTPUT_PATH = 'vmir-pipeline/vmir-targets/'\n",
    "#OUTPUT_PATH = 'mirnafold-pipeline/mirnafold-targets/'"
   ]
  },
  {
   "cell_type": "code",
   "execution_count": 121,
   "id": "timely-store",
   "metadata": {},
   "outputs": [],
   "source": [
    "PIPELINE_PATH  = 'vmir-pipeline/'\n",
    "#PIPELINE_PATH  = 'mirnafold-pipeline/'"
   ]
  },
  {
   "cell_type": "code",
   "execution_count": 122,
   "id": "indoor-ocean",
   "metadata": {
    "tags": []
   },
   "outputs": [],
   "source": [
    "def analysis(df):\n",
    "    print(f\"There are {len(df['Gene Symbol'].unique())} / {df.shape[0]} unique target genes.\")\n",
    "    # for each gene calculating how many mirnas are targeting it\n",
    "    gene_counts = pd.DataFrame(df['Gene Symbol'].unique(), columns = ['Gene Symbol'])\n",
    "    gene_counts['Count'] = gene_counts['Gene Symbol'].apply(lambda x: df[df['Gene Symbol'] == x].shape[0])\n",
    "    plt.hist(gene_counts['Count'], bins=np.arange(0,9)+0.5, ec=\"k\")\n",
    "    plt.title('Histogram of gene counts')\n",
    "    plt.show()\n",
    "    for i in range(int(gene_counts['Count'].max())):\n",
    "        print(f\"There are {np.sum(gene_counts['Count'] == i + 1)} genes  where for each gene  there exist  {i + 1}  unique miRNAs that target this particular gene.\")"
   ]
  },
  {
   "cell_type": "code",
   "execution_count": 123,
   "id": "broadband-hypothetical",
   "metadata": {},
   "outputs": [
    {
     "data": {
      "text/html": [
       "<div>\n",
       "<style scoped>\n",
       "    .dataframe tbody tr th:only-of-type {\n",
       "        vertical-align: middle;\n",
       "    }\n",
       "\n",
       "    .dataframe tbody tr th {\n",
       "        vertical-align: top;\n",
       "    }\n",
       "\n",
       "    .dataframe thead th {\n",
       "        text-align: right;\n",
       "    }\n",
       "</style>\n",
       "<table border=\"1\" class=\"dataframe\">\n",
       "  <thead>\n",
       "    <tr style=\"text-align: right;\">\n",
       "      <th></th>\n",
       "      <th>Target Rank</th>\n",
       "      <th>Target Score</th>\n",
       "      <th>Sequence</th>\n",
       "      <th>Gene Symbol</th>\n",
       "      <th>Gene Description</th>\n",
       "    </tr>\n",
       "  </thead>\n",
       "  <tbody>\n",
       "    <tr>\n",
       "      <th>0</th>\n",
       "      <td>1</td>\n",
       "      <td>99</td>\n",
       "      <td>UCAGCAACACAGUUGCUGAUUC</td>\n",
       "      <td>GRIA3</td>\n",
       "      <td>glutamate ionotropic receptor AMPA type subunit 3</td>\n",
       "    </tr>\n",
       "    <tr>\n",
       "      <th>1</th>\n",
       "      <td>2</td>\n",
       "      <td>97</td>\n",
       "      <td>UCAGCAACACAGUUGCUGAUUC</td>\n",
       "      <td>MTX3</td>\n",
       "      <td>metaxin 3</td>\n",
       "    </tr>\n",
       "    <tr>\n",
       "      <th>2</th>\n",
       "      <td>3</td>\n",
       "      <td>97</td>\n",
       "      <td>UCAGCAACACAGUUGCUGAUUC</td>\n",
       "      <td>DOCK4</td>\n",
       "      <td>dedicator of cytokinesis 4</td>\n",
       "    </tr>\n",
       "    <tr>\n",
       "      <th>3</th>\n",
       "      <td>4</td>\n",
       "      <td>97</td>\n",
       "      <td>UCAGCAACACAGUUGCUGAUUC</td>\n",
       "      <td>PCDH19</td>\n",
       "      <td>protocadherin 19</td>\n",
       "    </tr>\n",
       "    <tr>\n",
       "      <th>4</th>\n",
       "      <td>5</td>\n",
       "      <td>97</td>\n",
       "      <td>UCAGCAACACAGUUGCUGAUUC</td>\n",
       "      <td>SATB2</td>\n",
       "      <td>SATB homeobox 2</td>\n",
       "    </tr>\n",
       "  </tbody>\n",
       "</table>\n",
       "</div>"
      ],
      "text/plain": [
       "   Target Rank  Target Score                Sequence Gene Symbol  \\\n",
       "0            1            99  UCAGCAACACAGUUGCUGAUUC       GRIA3   \n",
       "1            2            97  UCAGCAACACAGUUGCUGAUUC        MTX3   \n",
       "2            3            97  UCAGCAACACAGUUGCUGAUUC       DOCK4   \n",
       "3            4            97  UCAGCAACACAGUUGCUGAUUC      PCDH19   \n",
       "4            5            97  UCAGCAACACAGUUGCUGAUUC       SATB2   \n",
       "\n",
       "                                    Gene Description  \n",
       "0  glutamate ionotropic receptor AMPA type subunit 3  \n",
       "1                                          metaxin 3  \n",
       "2                         dedicator of cytokinesis 4  \n",
       "3                                   protocadherin 19  \n",
       "4                                    SATB homeobox 2  "
      ]
     },
     "metadata": {},
     "output_type": "display_data"
    }
   ],
   "source": [
    "# reading in target data frame\n",
    "df = pd.read_csv(os.path.join(OUTPUT_PATH, 'score-more-80.csv'))\n",
    "display(df.head())"
   ]
  },
  {
   "cell_type": "markdown",
   "id": "colonial-verse",
   "metadata": {},
   "source": [
    "# Analysis for miRNAs with score >80"
   ]
  },
  {
   "cell_type": "markdown",
   "id": "synthetic-spiritual",
   "metadata": {},
   "source": [
    "Score > 80 is [reccomended by authors](http://mirdb.org/faq.html#How_to_interpret_the_target_prediction_score) : \"In our experience, a predicted target with prediction score > 80 is most likely to be real.\""
   ]
  },
  {
   "cell_type": "code",
   "execution_count": 124,
   "id": "utility-regard",
   "metadata": {},
   "outputs": [
    {
     "name": "stdout",
     "output_type": "stream",
     "text": [
      "There are 998 / 1056 unique target genes.\n"
     ]
    },
    {
     "data": {
      "image/png": "[encoded data removed]",
      "text/plain": [
       "<Figure size 432x288 with 1 Axes>"
      ]
     },
     "metadata": {
      "needs_background": "light"
     },
     "output_type": "display_data"
    },
    {
     "name": "stdout",
     "output_type": "stream",
     "text": [
      "There are 941 genes  where for each gene  there exist  1  unique miRNAs that target this particular gene.\n",
      "There are 56 genes  where for each gene  there exist  2  unique miRNAs that target this particular gene.\n",
      "There are 1 genes  where for each gene  there exist  3  unique miRNAs that target this particular gene.\n"
     ]
    }
   ],
   "source": [
    "analysis(df)"
   ]
  },
  {
   "cell_type": "markdown",
   "id": "measured-orbit",
   "metadata": {},
   "source": [
    "# Analysis for miRNAs with score > 90"
   ]
  },
  {
   "cell_type": "code",
   "execution_count": 125,
   "id": "complete-young",
   "metadata": {},
   "outputs": [
    {
     "name": "stdout",
     "output_type": "stream",
     "text": [
      "There are 334 / 342 unique target genes.\n"
     ]
    },
    {
     "data": {
      "image/png": "[encoded data removed]",
      "text/plain": [
       "<Figure size 432x288 with 1 Axes>"
      ]
     },
     "metadata": {
      "needs_background": "light"
     },
     "output_type": "display_data"
    },
    {
     "name": "stdout",
     "output_type": "stream",
     "text": [
      "There are 326 genes  where for each gene  there exist  1  unique miRNAs that target this particular gene.\n",
      "There are 8 genes  where for each gene  there exist  2  unique miRNAs that target this particular gene.\n"
     ]
    }
   ],
   "source": [
    "analysis(df[df['Target Score'] > 90])"
   ]
  },
  {
   "cell_type": "code",
   "execution_count": 126,
   "id": "included-marina",
   "metadata": {},
   "outputs": [],
   "source": [
    "# saving filtered df\n",
    "df[df['Target Score'] > 90].to_csv(os.path.join(OUTPUT_PATH, 'score-more-90.csv'), index=False)"
   ]
  },
  {
   "cell_type": "markdown",
   "id": "speaking-assignment",
   "metadata": {},
   "source": [
    "# Analysis for miRNAs with score > 95"
   ]
  },
  {
   "cell_type": "code",
   "execution_count": 127,
   "id": "victorian-mexico",
   "metadata": {},
   "outputs": [
    {
     "name": "stdout",
     "output_type": "stream",
     "text": [
      "There are 102 / 102 unique target genes.\n"
     ]
    },
    {
     "data": {
      "image/png": "[encoded data removed]",
      "text/plain": [
       "<Figure size 432x288 with 1 Axes>"
      ]
     },
     "metadata": {
      "needs_background": "light"
     },
     "output_type": "display_data"
    },
    {
     "name": "stdout",
     "output_type": "stream",
     "text": [
      "There are 102 genes  where for each gene  there exist  1  unique miRNAs that target this particular gene.\n"
     ]
    }
   ],
   "source": [
    "analysis(df[df['Target Score'] > 95])"
   ]
  },
  {
   "cell_type": "code",
   "execution_count": 128,
   "id": "enormous-customer",
   "metadata": {},
   "outputs": [],
   "source": [
    "# saving filtered df\n",
    "df[df['Target Score'] > 95].to_csv(os.path.join(OUTPUT_PATH, 'score-more-95.csv'), index=False)"
   ]
  },
  {
   "cell_type": "code",
   "execution_count": 129,
   "id": "adopted-junction",
   "metadata": {},
   "outputs": [
    {
     "data": {
      "text/html": [
       "<div>\n",
       "<style scoped>\n",
       "    .dataframe tbody tr th:only-of-type {\n",
       "        vertical-align: middle;\n",
       "    }\n",
       "\n",
       "    .dataframe tbody tr th {\n",
       "        vertical-align: top;\n",
       "    }\n",
       "\n",
       "    .dataframe thead th {\n",
       "        text-align: right;\n",
       "    }\n",
       "</style>\n",
       "<table border=\"1\" class=\"dataframe\">\n",
       "  <thead>\n",
       "    <tr style=\"text-align: right;\">\n",
       "      <th></th>\n",
       "      <th>Sequence</th>\n",
       "      <th>Strand</th>\n",
       "      <th># of predicted targets</th>\n",
       "      <th>Seed</th>\n",
       "    </tr>\n",
       "  </thead>\n",
       "  <tbody>\n",
       "    <tr>\n",
       "      <th>0</th>\n",
       "      <td>UCAGCAACACAGUUGCUGAUUC</td>\n",
       "      <td>5'</td>\n",
       "      <td>762</td>\n",
       "      <td>CAGCAAC</td>\n",
       "    </tr>\n",
       "    <tr>\n",
       "      <th>1</th>\n",
       "      <td>UGAUUCUCUUCCUGUUCCAAGC</td>\n",
       "      <td>3'</td>\n",
       "      <td>476</td>\n",
       "      <td>GAUUCUC</td>\n",
       "    </tr>\n",
       "    <tr>\n",
       "      <th>2</th>\n",
       "      <td>UCAACAAUUUUAUUGUAGAUGA</td>\n",
       "      <td>5'</td>\n",
       "      <td>833</td>\n",
       "      <td>CAACAAU</td>\n",
       "    </tr>\n",
       "    <tr>\n",
       "      <th>3</th>\n",
       "      <td>AUGAAGAAGGUAACAUGUUCAA</td>\n",
       "      <td>3'</td>\n",
       "      <td>1156</td>\n",
       "      <td>UGAAGAA</td>\n",
       "    </tr>\n",
       "    <tr>\n",
       "      <th>4</th>\n",
       "      <td>AUUGCCAUAGUAAUGGUGACAA</td>\n",
       "      <td>5'</td>\n",
       "      <td>653</td>\n",
       "      <td>UUGCCAU</td>\n",
       "    </tr>\n",
       "  </tbody>\n",
       "</table>\n",
       "</div>"
      ],
      "text/plain": [
       "                 Sequence Strand  # of predicted targets     Seed\n",
       "0  UCAGCAACACAGUUGCUGAUUC     5'                     762  CAGCAAC\n",
       "1  UGAUUCUCUUCCUGUUCCAAGC     3'                     476  GAUUCUC\n",
       "2  UCAACAAUUUUAUUGUAGAUGA     5'                     833  CAACAAU\n",
       "3  AUGAAGAAGGUAACAUGUUCAA     3'                    1156  UGAAGAA\n",
       "4  AUUGCCAUAGUAAUGGUGACAA     5'                     653  UUGCCAU"
      ]
     },
     "execution_count": 129,
     "metadata": {},
     "output_type": "execute_result"
    }
   ],
   "source": [
    "# contains seed and total number of targets for mature miRNAs (unfiltered; score >= 50)\n",
    "stats = pd.read_csv(os.path.join(PIPELINE_PATH, 'total-number-of-predicted-targets-and-seeds.csv'))\n",
    "stats.columns = ['Sequence', 'Strand', '# of predicted targets', 'Seed']\n",
    "stats.head()"
   ]
  },
  {
   "cell_type": "code",
   "execution_count": 130,
   "id": "inside-reynolds",
   "metadata": {},
   "outputs": [
    {
     "data": {
      "text/html": [
       "<div>\n",
       "<style scoped>\n",
       "    .dataframe tbody tr th:only-of-type {\n",
       "        vertical-align: middle;\n",
       "    }\n",
       "\n",
       "    .dataframe tbody tr th {\n",
       "        vertical-align: top;\n",
       "    }\n",
       "\n",
       "    .dataframe thead th {\n",
       "        text-align: right;\n",
       "    }\n",
       "</style>\n",
       "<table border=\"1\" class=\"dataframe\">\n",
       "  <thead>\n",
       "    <tr style=\"text-align: right;\">\n",
       "      <th></th>\n",
       "      <th>Sequence</th>\n",
       "      <th>Strand</th>\n",
       "      <th># of predicted targets</th>\n",
       "      <th>Seed</th>\n",
       "    </tr>\n",
       "  </thead>\n",
       "  <tbody>\n",
       "    <tr>\n",
       "      <th>0</th>\n",
       "      <td>UCAGCAACACAGUUGCUGAUUC</td>\n",
       "      <td>5'</td>\n",
       "      <td>762</td>\n",
       "      <td>CAGCAAC</td>\n",
       "    </tr>\n",
       "    <tr>\n",
       "      <th>1</th>\n",
       "      <td>UGAUUCUCUUCCUGUUCCAAGC</td>\n",
       "      <td>3'</td>\n",
       "      <td>476</td>\n",
       "      <td>GAUUCUC</td>\n",
       "    </tr>\n",
       "    <tr>\n",
       "      <th>2</th>\n",
       "      <td>AUUGCCAUAGUAAUGGUGACAA</td>\n",
       "      <td>5'</td>\n",
       "      <td>653</td>\n",
       "      <td>UUGCCAU</td>\n",
       "    </tr>\n",
       "    <tr>\n",
       "      <th>3</th>\n",
       "      <td>ACAAUUAUGCUUUGCUGUAUGA</td>\n",
       "      <td>3'</td>\n",
       "      <td>667</td>\n",
       "      <td>CAAUUAU</td>\n",
       "    </tr>\n",
       "  </tbody>\n",
       "</table>\n",
       "</div>"
      ],
      "text/plain": [
       "                 Sequence Strand  # of predicted targets     Seed\n",
       "0  UCAGCAACACAGUUGCUGAUUC     5'                     762  CAGCAAC\n",
       "1  UGAUUCUCUUCCUGUUCCAAGC     3'                     476  GAUUCUC\n",
       "2  AUUGCCAUAGUAAUGGUGACAA     5'                     653  UUGCCAU\n",
       "3  ACAAUUAUGCUUUGCUGUAUGA     3'                     667  CAAUUAU"
      ]
     },
     "execution_count": 130,
     "metadata": {},
     "output_type": "execute_result"
    }
   ],
   "source": [
    "# selecting mature miRNAs with number of targets < 800\n",
    "filtered_stats = stats[stats['# of predicted targets'] < 800]\n",
    "filtered_stats = (filtered_stats.reset_index()\n",
    "                 .drop(columns='index'))\n",
    "filtered_stats"
   ]
  },
  {
   "cell_type": "code",
   "execution_count": 131,
   "id": "piano-pittsburgh",
   "metadata": {},
   "outputs": [],
   "source": [
    "df_filtered = df.merge(filtered_stats, how='inner', on='Sequence')\n",
    "df_filtered.to_csv(os.path.join(OUTPUT_PATH, 'score-more-80-targets-less-800.csv'), index=False)"
   ]
  },
  {
   "cell_type": "code",
   "execution_count": 132,
   "id": "fifty-calculator",
   "metadata": {},
   "outputs": [
    {
     "data": {
      "text/html": [
       "<div>\n",
       "<style scoped>\n",
       "    .dataframe tbody tr th:only-of-type {\n",
       "        vertical-align: middle;\n",
       "    }\n",
       "\n",
       "    .dataframe tbody tr th {\n",
       "        vertical-align: top;\n",
       "    }\n",
       "\n",
       "    .dataframe thead th {\n",
       "        text-align: right;\n",
       "    }\n",
       "</style>\n",
       "<table border=\"1\" class=\"dataframe\">\n",
       "  <thead>\n",
       "    <tr style=\"text-align: right;\">\n",
       "      <th></th>\n",
       "      <th>Target Rank</th>\n",
       "      <th>Target Score</th>\n",
       "      <th>Sequence</th>\n",
       "      <th>Gene Symbol</th>\n",
       "      <th>Gene Description</th>\n",
       "      <th>Strand</th>\n",
       "      <th># of predicted targets</th>\n",
       "      <th>Seed</th>\n",
       "    </tr>\n",
       "  </thead>\n",
       "  <tbody>\n",
       "    <tr>\n",
       "      <th>0</th>\n",
       "      <td>1</td>\n",
       "      <td>99</td>\n",
       "      <td>UCAGCAACACAGUUGCUGAUUC</td>\n",
       "      <td>GRIA3</td>\n",
       "      <td>glutamate ionotropic receptor AMPA type subunit 3</td>\n",
       "      <td>5'</td>\n",
       "      <td>762</td>\n",
       "      <td>CAGCAAC</td>\n",
       "    </tr>\n",
       "    <tr>\n",
       "      <th>1</th>\n",
       "      <td>2</td>\n",
       "      <td>97</td>\n",
       "      <td>UCAGCAACACAGUUGCUGAUUC</td>\n",
       "      <td>MTX3</td>\n",
       "      <td>metaxin 3</td>\n",
       "      <td>5'</td>\n",
       "      <td>762</td>\n",
       "      <td>CAGCAAC</td>\n",
       "    </tr>\n",
       "    <tr>\n",
       "      <th>2</th>\n",
       "      <td>3</td>\n",
       "      <td>97</td>\n",
       "      <td>UCAGCAACACAGUUGCUGAUUC</td>\n",
       "      <td>DOCK4</td>\n",
       "      <td>dedicator of cytokinesis 4</td>\n",
       "      <td>5'</td>\n",
       "      <td>762</td>\n",
       "      <td>CAGCAAC</td>\n",
       "    </tr>\n",
       "    <tr>\n",
       "      <th>3</th>\n",
       "      <td>4</td>\n",
       "      <td>97</td>\n",
       "      <td>UCAGCAACACAGUUGCUGAUUC</td>\n",
       "      <td>PCDH19</td>\n",
       "      <td>protocadherin 19</td>\n",
       "      <td>5'</td>\n",
       "      <td>762</td>\n",
       "      <td>CAGCAAC</td>\n",
       "    </tr>\n",
       "    <tr>\n",
       "      <th>4</th>\n",
       "      <td>5</td>\n",
       "      <td>97</td>\n",
       "      <td>UCAGCAACACAGUUGCUGAUUC</td>\n",
       "      <td>SATB2</td>\n",
       "      <td>SATB homeobox 2</td>\n",
       "      <td>5'</td>\n",
       "      <td>762</td>\n",
       "      <td>CAGCAAC</td>\n",
       "    </tr>\n",
       "  </tbody>\n",
       "</table>\n",
       "</div>"
      ],
      "text/plain": [
       "   Target Rank  Target Score                Sequence Gene Symbol  \\\n",
       "0            1            99  UCAGCAACACAGUUGCUGAUUC       GRIA3   \n",
       "1            2            97  UCAGCAACACAGUUGCUGAUUC        MTX3   \n",
       "2            3            97  UCAGCAACACAGUUGCUGAUUC       DOCK4   \n",
       "3            4            97  UCAGCAACACAGUUGCUGAUUC      PCDH19   \n",
       "4            5            97  UCAGCAACACAGUUGCUGAUUC       SATB2   \n",
       "\n",
       "                                    Gene Description Strand  \\\n",
       "0  glutamate ionotropic receptor AMPA type subunit 3     5'   \n",
       "1                                          metaxin 3     5'   \n",
       "2                         dedicator of cytokinesis 4     5'   \n",
       "3                                   protocadherin 19     5'   \n",
       "4                                    SATB homeobox 2     5'   \n",
       "\n",
       "   # of predicted targets     Seed  \n",
       "0                     762  CAGCAAC  \n",
       "1                     762  CAGCAAC  \n",
       "2                     762  CAGCAAC  \n",
       "3                     762  CAGCAAC  \n",
       "4                     762  CAGCAAC  "
      ]
     },
     "execution_count": 132,
     "metadata": {},
     "output_type": "execute_result"
    }
   ],
   "source": [
    "df_filtered.head()"
   ]
  },
  {
   "cell_type": "markdown",
   "id": "physical-apparatus",
   "metadata": {},
   "source": [
    "# Analysis for miRNAS with score > 80 and number of unfiltered predicted targets < 800"
   ]
  },
  {
   "cell_type": "markdown",
   "id": "fallen-wholesale",
   "metadata": {},
   "source": [
    "Authors of miRDB suggest  to use miRNAs with number of targets [less than 800](http://mirdb.org/faq.html#How_to_perform_target_mining) and with score [>80](http://mirdb.org/faq.html#How_to_interpret_the_target_prediction_score)."
   ]
  },
  {
   "cell_type": "code",
   "execution_count": 133,
   "id": "local-greenhouse",
   "metadata": {},
   "outputs": [
    {
     "name": "stdout",
     "output_type": "stream",
     "text": [
      "There are 525 / 536 unique target genes.\n"
     ]
    },
    {
     "data": {
      "image/png": "[encoded data removed]",
      "text/plain": [
       "<Figure size 432x288 with 1 Axes>"
      ]
     },
     "metadata": {
      "needs_background": "light"
     },
     "output_type": "display_data"
    },
    {
     "name": "stdout",
     "output_type": "stream",
     "text": [
      "There are 514 genes  where for each gene  there exist  1  unique miRNAs that target this particular gene.\n",
      "There are 11 genes  where for each gene  there exist  2  unique miRNAs that target this particular gene.\n"
     ]
    }
   ],
   "source": [
    "analysis(df_filtered)"
   ]
  },
  {
   "cell_type": "markdown",
   "id": "owned-elimination",
   "metadata": {},
   "source": [
    "# Analysis for miRNAS with score > 90 and number of unfiltered predicted targets < 800"
   ]
  },
  {
   "cell_type": "code",
   "execution_count": 134,
   "id": "considerable-drill",
   "metadata": {},
   "outputs": [
    {
     "name": "stdout",
     "output_type": "stream",
     "text": [
      "There are 158 / 158 unique target genes.\n"
     ]
    },
    {
     "data": {
      "image/png": "[encoded data removed]",
      "text/plain": [
       "<Figure size 432x288 with 1 Axes>"
      ]
     },
     "metadata": {
      "needs_background": "light"
     },
     "output_type": "display_data"
    },
    {
     "name": "stdout",
     "output_type": "stream",
     "text": [
      "There are 158 genes  where for each gene  there exist  1  unique miRNAs that target this particular gene.\n"
     ]
    }
   ],
   "source": [
    "analysis(df_filtered[df_filtered['Target Score'] > 90])"
   ]
  },
  {
   "cell_type": "code",
   "execution_count": 135,
   "id": "identical-monster",
   "metadata": {},
   "outputs": [],
   "source": [
    "df_filtered[df_filtered['Target Score'] > 90].to_csv(os.path.join(OUTPUT_PATH, 'score-more-90-targets-less-800.csv'), index=False)"
   ]
  },
  {
   "cell_type": "markdown",
   "id": "humanitarian-hybrid",
   "metadata": {},
   "source": [
    "# Analysis for miRNAS with score > 95 and number of unfiltered predicted targets < 800"
   ]
  },
  {
   "cell_type": "code",
   "execution_count": 136,
   "id": "weekly-listening",
   "metadata": {},
   "outputs": [
    {
     "name": "stdout",
     "output_type": "stream",
     "text": [
      "There are 44 / 44 unique target genes.\n"
     ]
    },
    {
     "data": {
      "image/png": "[encoded data removed]",
      "text/plain": [
       "<Figure size 432x288 with 1 Axes>"
      ]
     },
     "metadata": {
      "needs_background": "light"
     },
     "output_type": "display_data"
    },
    {
     "name": "stdout",
     "output_type": "stream",
     "text": [
      "There are 44 genes  where for each gene  there exist  1  unique miRNAs that target this particular gene.\n"
     ]
    }
   ],
   "source": [
    "analysis(df_filtered[df_filtered['Target Score'] > 95])"
   ]
  },
  {
   "cell_type": "code",
   "execution_count": 137,
   "id": "ranking-blues",
   "metadata": {},
   "outputs": [],
   "source": [
    "df_filtered[df_filtered['Target Score'] > 95].to_csv(os.path.join(OUTPUT_PATH, 'score-more-95-targets-less-800.csv'), index=False)"
   ]
  }
 ],
 "metadata": {
  "kernelspec": {
   "display_name": "Python 3",
   "language": "python",
   "name": "python3"
  },
  "language_info": {
   "codemirror_mode": {
    "name": "ipython",
    "version": 3
   },
   "file_extension": ".py",
   "mimetype": "text/x-python",
   "name": "python",
   "nbconvert_exporter": "python",
   "pygments_lexer": "ipython3",
   "version": "3.6.12"
  }
 },
 "nbformat": 4,
 "nbformat_minor": 5
}
