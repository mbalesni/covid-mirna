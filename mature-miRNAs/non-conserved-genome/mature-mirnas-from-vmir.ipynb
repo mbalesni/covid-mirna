{
 "cells": [
  {
   "cell_type": "code",
   "execution_count": 1,
   "metadata": {},
   "outputs": [],
   "source": [
    "import pandas as pd"
   ]
  },
  {
   "cell_type": "code",
   "execution_count": 2,
   "metadata": {},
   "outputs": [
    {
     "data": {
      "text/html": [
       "<div>\n",
       "<style scoped>\n",
       "    .dataframe tbody tr th:only-of-type {\n",
       "        vertical-align: middle;\n",
       "    }\n",
       "\n",
       "    .dataframe tbody tr th {\n",
       "        vertical-align: top;\n",
       "    }\n",
       "\n",
       "    .dataframe thead th {\n",
       "        text-align: right;\n",
       "    }\n",
       "</style>\n",
       "<table border=\"1\" class=\"dataframe\">\n",
       "  <thead>\n",
       "    <tr style=\"text-align: right;\">\n",
       "      <th></th>\n",
       "      <th>sequence</th>\n",
       "      <th>mfe</th>\n",
       "      <th>mfeis</th>\n",
       "      <th>class</th>\n",
       "    </tr>\n",
       "  </thead>\n",
       "  <tbody>\n",
       "    <tr>\n",
       "      <th>0</th>\n",
       "      <td>ATGCGGAATTATATAGGACAGAATAATCAGCAACACAGTTGCTGAT...</td>\n",
       "      <td>-23.900000</td>\n",
       "      <td>-0.919231</td>\n",
       "      <td>Real</td>\n",
       "    </tr>\n",
       "    <tr>\n",
       "      <th>1</th>\n",
       "      <td>ATTGTGTGAATTTGGACATGTTCTTCAGGCTCATCAACAATTTTAT...</td>\n",
       "      <td>-25.000000</td>\n",
       "      <td>-0.892857</td>\n",
       "      <td>Real</td>\n",
       "    </tr>\n",
       "    <tr>\n",
       "      <th>2</th>\n",
       "      <td>GGTTTTATAGCTGGCTTGATTGCCATAGTAATGGTGACAATTATGC...</td>\n",
       "      <td>-21.500000</td>\n",
       "      <td>-0.895833</td>\n",
       "      <td>Real</td>\n",
       "    </tr>\n",
       "    <tr>\n",
       "      <th>3</th>\n",
       "      <td>TTGAACATGTTACCTTCTTCATCTACAATAAAATTGTTGATGAGCC...</td>\n",
       "      <td>-18.200001</td>\n",
       "      <td>-0.866667</td>\n",
       "      <td>Pseudo</td>\n",
       "    </tr>\n",
       "  </tbody>\n",
       "</table>\n",
       "</div>"
      ],
      "text/plain": [
       "                                            sequence        mfe     mfeis  \\\n",
       "0  ATGCGGAATTATATAGGACAGAATAATCAGCAACACAGTTGCTGAT... -23.900000 -0.919231   \n",
       "1  ATTGTGTGAATTTGGACATGTTCTTCAGGCTCATCAACAATTTTAT... -25.000000 -0.892857   \n",
       "2  GGTTTTATAGCTGGCTTGATTGCCATAGTAATGGTGACAATTATGC... -21.500000 -0.895833   \n",
       "3  TTGAACATGTTACCTTCTTCATCTACAATAAAATTGTTGATGAGCC... -18.200001 -0.866667   \n",
       "\n",
       "    class  \n",
       "0    Real  \n",
       "1    Real  \n",
       "2    Real  \n",
       "3  Pseudo  "
      ]
     },
     "execution_count": 2,
     "metadata": {},
     "output_type": "execute_result"
    }
   ],
   "source": [
    "df = pd.read_csv('../../pre-miRNAs/filtered_premirna_from_S/vmir_output_from_S_filtered.csv')\n",
    "df"
   ]
  },
  {
   "cell_type": "code",
   "execution_count": 3,
   "metadata": {},
   "outputs": [
    {
     "data": {
      "text/html": [
       "<div>\n",
       "<style scoped>\n",
       "    .dataframe tbody tr th:only-of-type {\n",
       "        vertical-align: middle;\n",
       "    }\n",
       "\n",
       "    .dataframe tbody tr th {\n",
       "        vertical-align: top;\n",
       "    }\n",
       "\n",
       "    .dataframe thead th {\n",
       "        text-align: right;\n",
       "    }\n",
       "</style>\n",
       "<table border=\"1\" class=\"dataframe\">\n",
       "  <thead>\n",
       "    <tr style=\"text-align: right;\">\n",
       "      <th></th>\n",
       "      <th>sequence</th>\n",
       "      <th>mfe</th>\n",
       "      <th>mfeis</th>\n",
       "      <th>class</th>\n",
       "    </tr>\n",
       "  </thead>\n",
       "  <tbody>\n",
       "    <tr>\n",
       "      <th>0</th>\n",
       "      <td>AUGCGGAAUUAUAUAGGACAGAAUAAUCAGCAACACAGUUGCUGAU...</td>\n",
       "      <td>-23.900000</td>\n",
       "      <td>-0.919231</td>\n",
       "      <td>Real</td>\n",
       "    </tr>\n",
       "    <tr>\n",
       "      <th>1</th>\n",
       "      <td>AUUGUGUGAAUUUGGACAUGUUCUUCAGGCUCAUCAACAAUUUUAU...</td>\n",
       "      <td>-25.000000</td>\n",
       "      <td>-0.892857</td>\n",
       "      <td>Real</td>\n",
       "    </tr>\n",
       "    <tr>\n",
       "      <th>2</th>\n",
       "      <td>GGUUUUAUAGCUGGCUUGAUUGCCAUAGUAAUGGUGACAAUUAUGC...</td>\n",
       "      <td>-21.500000</td>\n",
       "      <td>-0.895833</td>\n",
       "      <td>Real</td>\n",
       "    </tr>\n",
       "    <tr>\n",
       "      <th>3</th>\n",
       "      <td>UUGAACAUGUUACCUUCUUCAUCUACAAUAAAAUUGUUGAUGAGCC...</td>\n",
       "      <td>-18.200001</td>\n",
       "      <td>-0.866667</td>\n",
       "      <td>Pseudo</td>\n",
       "    </tr>\n",
       "  </tbody>\n",
       "</table>\n",
       "</div>"
      ],
      "text/plain": [
       "                                            sequence        mfe     mfeis  \\\n",
       "0  AUGCGGAAUUAUAUAGGACAGAAUAAUCAGCAACACAGUUGCUGAU... -23.900000 -0.919231   \n",
       "1  AUUGUGUGAAUUUGGACAUGUUCUUCAGGCUCAUCAACAAUUUUAU... -25.000000 -0.892857   \n",
       "2  GGUUUUAUAGCUGGCUUGAUUGCCAUAGUAAUGGUGACAAUUAUGC... -21.500000 -0.895833   \n",
       "3  UUGAACAUGUUACCUUCUUCAUCUACAAUAAAAUUGUUGAUGAGCC... -18.200001 -0.866667   \n",
       "\n",
       "    class  \n",
       "0    Real  \n",
       "1    Real  \n",
       "2    Real  \n",
       "3  Pseudo  "
      ]
     },
     "execution_count": 3,
     "metadata": {},
     "output_type": "execute_result"
    }
   ],
   "source": [
    "complement_trans = str.maketrans('T', 'U')\n",
    "for i in range(df.shape[0]):\n",
    "    seq = df.iloc[i].sequence\n",
    "    df.loc[i,'sequence'] = seq.translate(complement_trans)\n",
    "\n",
    "df"
   ]
  },
  {
   "cell_type": "code",
   "execution_count": 4,
   "metadata": {},
   "outputs": [
    {
     "data": {
      "text/html": [
       "<div>\n",
       "<style scoped>\n",
       "    .dataframe tbody tr th:only-of-type {\n",
       "        vertical-align: middle;\n",
       "    }\n",
       "\n",
       "    .dataframe tbody tr th {\n",
       "        vertical-align: top;\n",
       "    }\n",
       "\n",
       "    .dataframe thead th {\n",
       "        text-align: right;\n",
       "    }\n",
       "</style>\n",
       "<table border=\"1\" class=\"dataframe\">\n",
       "  <thead>\n",
       "    <tr style=\"text-align: right;\">\n",
       "      <th></th>\n",
       "      <th>sequence</th>\n",
       "      <th>mfe</th>\n",
       "      <th>mfeis</th>\n",
       "      <th>class</th>\n",
       "    </tr>\n",
       "  </thead>\n",
       "  <tbody>\n",
       "    <tr>\n",
       "      <th>0</th>\n",
       "      <td>AUGCGGAAUUAUAUAGGACAGAAUAAUCAGCAACACAGUUGCUGAU...</td>\n",
       "      <td>-23.9</td>\n",
       "      <td>-0.919231</td>\n",
       "      <td>Real</td>\n",
       "    </tr>\n",
       "    <tr>\n",
       "      <th>1</th>\n",
       "      <td>AUUGUGUGAAUUUGGACAUGUUCUUCAGGCUCAUCAACAAUUUUAU...</td>\n",
       "      <td>-25.0</td>\n",
       "      <td>-0.892857</td>\n",
       "      <td>Real</td>\n",
       "    </tr>\n",
       "    <tr>\n",
       "      <th>2</th>\n",
       "      <td>GGUUUUAUAGCUGGCUUGAUUGCCAUAGUAAUGGUGACAAUUAUGC...</td>\n",
       "      <td>-21.5</td>\n",
       "      <td>-0.895833</td>\n",
       "      <td>Real</td>\n",
       "    </tr>\n",
       "  </tbody>\n",
       "</table>\n",
       "</div>"
      ],
      "text/plain": [
       "                                            sequence   mfe     mfeis class\n",
       "0  AUGCGGAAUUAUAUAGGACAGAAUAAUCAGCAACACAGUUGCUGAU... -23.9 -0.919231  Real\n",
       "1  AUUGUGUGAAUUUGGACAUGUUCUUCAGGCUCAUCAACAAUUUUAU... -25.0 -0.892857  Real\n",
       "2  GGUUUUAUAGCUGGCUUGAUUGCCAUAGUAAUGGUGACAAUUAUGC... -21.5 -0.895833  Real"
      ]
     },
     "execution_count": 4,
     "metadata": {},
     "output_type": "execute_result"
    }
   ],
   "source": [
    "filtered_premirnas = df[df['class'] == 'Real']\n",
    "filtered_premirnas"
   ]
  },
  {
   "cell_type": "code",
   "execution_count": 12,
   "metadata": {},
   "outputs": [
    {
     "name": "stdout",
     "output_type": "stream",
     "text": [
      "Requirement already satisfied: bs4 in /opt/anaconda3/envs/bioinf/lib/python3.8/site-packages (0.0.1)\n",
      "Requirement already satisfied: beautifulsoup4 in /opt/anaconda3/envs/bioinf/lib/python3.8/site-packages (from bs4) (4.9.3)\n",
      "Requirement already satisfied: soupsieve>1.2 in /opt/anaconda3/envs/bioinf/lib/python3.8/site-packages (from beautifulsoup4->bs4) (2.2.1)\n",
      "Collecting tqdm\n",
      "  Downloading tqdm-4.60.0-py2.py3-none-any.whl (75 kB)\n",
      "\u001b[K     |████████████████████████████████| 75 kB 1.6 MB/s eta 0:00:011\n",
      "\u001b[?25hInstalling collected packages: tqdm\n",
      "Successfully installed tqdm-4.60.0\n"
     ]
    }
   ],
   "source": [
    "!pip install bs4\n",
    "!pip install tqdm"
   ]
  },
  {
   "cell_type": "code",
   "execution_count": 5,
   "metadata": {},
   "outputs": [],
   "source": [
    "import requests\n",
    "from bs4 import BeautifulSoup\n",
    "from tqdm.notebook import tqdm"
   ]
  },
  {
   "cell_type": "code",
   "execution_count": 6,
   "metadata": {},
   "outputs": [],
   "source": [
    "import re\n",
    "\n",
    "def parse_bayes_output(soup_html):\n",
    "    stem_re = \"\\d' *stem\"\n",
    "    rna_re = \"[AUGC]+\"\n",
    "\n",
    "    seqs = [el.text for el in html_soup.select('tr')[2:]]\n",
    "    seqs = [(re.findall(rna_re, mirna), re.findall(stem_re, mirna)) for mirna in seqs]\n",
    "    seqs = [(strand[0], sequence[0][:2]) for strand, sequence in seqs if len(strand) > 0 and len(sequence) > 0]\n",
    "    \n",
    "#     output = []\n",
    "#     for strand_match, sequence_match in seqs:\n",
    "#         strand = strand_match[0]\n",
    "#         sequence = sequence_match[0]\n",
    "#         print(sequence)\n",
    "#         if len(strand) > 0 and len(sequence) > 0:\n",
    "#             output.append((strand, sequence))\n",
    "#         seqs = [(strand[0], sequence[0][:2]) for strand, sequence in seqs if len(strand) > 0 and len(sequence) > 0]\n",
    "    return list(set(seqs))"
   ]
  },
  {
   "cell_type": "code",
   "execution_count": 7,
   "metadata": {},
   "outputs": [
    {
     "data": {
      "application/vnd.jupyter.widget-view+json": {
       "model_id": "9f073e6aa6f34922802c1a3c45bcd67a",
       "version_major": 2,
       "version_minor": 0
      },
      "text/plain": [
       "  0%|          | 0/3 [00:00<?, ?it/s]"
      ]
     },
     "metadata": {},
     "output_type": "display_data"
    },
    {
     "name": "stdout",
     "output_type": "stream",
     "text": [
      "AUGCGGAAUUAUAUAGGACAGAAUAAUCAGCAACACAGUUGCUGAUUCUCUUCCUGUUCCAAGCAU\n",
      "AUUGUGUGAAUUUGGACAUGUUCUUCAGGCUCAUCAACAAUUUUAUUGUAGAUGAAGAAGGUAACAUGUUCAACACCAGU\n",
      "GGUUUUAUAGCUGGCUUGAUUGCCAUAGUAAUGGUGACAAUUAUGCUUUGCUGUAUGACC\n",
      "Found 9 mature miRNA candidates.\n"
     ]
    }
   ],
   "source": [
    "mature_bayes_url = \"http://mirna.imbb.forth.gr/cgi-bin/MatureBayes/maturebayes.py\"\n",
    "mature_mirnas = []\n",
    "\n",
    "for i in tqdm(range(filtered_premirnas.shape[0])):\n",
    "    premirna_seq = filtered_premirnas.iloc[i]['sequence']\n",
    "    print(premirna_seq)\n",
    "    payload = {\"single_seq\": premirna_seq}\n",
    "    \n",
    "    response = requests.post(mature_bayes_url, payload)\n",
    "    html_soup = BeautifulSoup(response.text, 'html.parser')\n",
    "    new_mature_mirnas = parse_bayes_output(html_soup)\n",
    "    mature_mirnas += new_mature_mirnas\n",
    "    \n",
    "mature_mirnas = list(set(mature_mirnas))\n",
    "print(f'Found {len(mature_mirnas)} mature miRNA candidates.')"
   ]
  },
  {
   "cell_type": "code",
   "execution_count": 8,
   "metadata": {},
   "outputs": [
    {
     "data": {
      "text/html": [
       "<div>\n",
       "<style scoped>\n",
       "    .dataframe tbody tr th:only-of-type {\n",
       "        vertical-align: middle;\n",
       "    }\n",
       "\n",
       "    .dataframe tbody tr th {\n",
       "        vertical-align: top;\n",
       "    }\n",
       "\n",
       "    .dataframe thead th {\n",
       "        text-align: right;\n",
       "    }\n",
       "</style>\n",
       "<table border=\"1\" class=\"dataframe\">\n",
       "  <thead>\n",
       "    <tr style=\"text-align: right;\">\n",
       "      <th></th>\n",
       "      <th>sequence</th>\n",
       "      <th>strand</th>\n",
       "    </tr>\n",
       "  </thead>\n",
       "  <tbody>\n",
       "    <tr>\n",
       "      <th>0</th>\n",
       "      <td>UGUAGAUGAAGAAGGUAACAUG</td>\n",
       "      <td>3'</td>\n",
       "    </tr>\n",
       "    <tr>\n",
       "      <th>1</th>\n",
       "      <td>AUUGCCAUAGUAAUGGUGACAA</td>\n",
       "      <td>5'</td>\n",
       "    </tr>\n",
       "    <tr>\n",
       "      <th>2</th>\n",
       "      <td>AUGAAGAAGGUAACAUGUUCAA</td>\n",
       "      <td>3'</td>\n",
       "    </tr>\n",
       "    <tr>\n",
       "      <th>3</th>\n",
       "      <td>UCAACAAUUUUAUUGUAGAUGA</td>\n",
       "      <td>5'</td>\n",
       "    </tr>\n",
       "    <tr>\n",
       "      <th>4</th>\n",
       "      <td>CGGAAUUAUAUAGGACAGAAUA</td>\n",
       "      <td>5'</td>\n",
       "    </tr>\n",
       "    <tr>\n",
       "      <th>5</th>\n",
       "      <td>UUUAUAGCUGGCUUGAUUGCCA</td>\n",
       "      <td>5'</td>\n",
       "    </tr>\n",
       "    <tr>\n",
       "      <th>6</th>\n",
       "      <td>UGAUUCUCUUCCUGUUCCAAGC</td>\n",
       "      <td>3'</td>\n",
       "    </tr>\n",
       "    <tr>\n",
       "      <th>7</th>\n",
       "      <td>ACAAUUAUGCUUUGCUGUAUGA</td>\n",
       "      <td>3'</td>\n",
       "    </tr>\n",
       "    <tr>\n",
       "      <th>8</th>\n",
       "      <td>UCAGCAACACAGUUGCUGAUUC</td>\n",
       "      <td>5'</td>\n",
       "    </tr>\n",
       "  </tbody>\n",
       "</table>\n",
       "</div>"
      ],
      "text/plain": [
       "                 sequence strand\n",
       "0  UGUAGAUGAAGAAGGUAACAUG     3'\n",
       "1  AUUGCCAUAGUAAUGGUGACAA     5'\n",
       "2  AUGAAGAAGGUAACAUGUUCAA     3'\n",
       "3  UCAACAAUUUUAUUGUAGAUGA     5'\n",
       "4  CGGAAUUAUAUAGGACAGAAUA     5'\n",
       "5  UUUAUAGCUGGCUUGAUUGCCA     5'\n",
       "6  UGAUUCUCUUCCUGUUCCAAGC     3'\n",
       "7  ACAAUUAUGCUUUGCUGUAUGA     3'\n",
       "8  UCAGCAACACAGUUGCUGAUUC     5'"
      ]
     },
     "execution_count": 8,
     "metadata": {},
     "output_type": "execute_result"
    }
   ],
   "source": [
    "mature_mirnas = pd.DataFrame(mature_mirnas, columns=['sequence', 'strand'])\n",
    "mature_mirnas"
   ]
  },
  {
   "cell_type": "code",
   "execution_count": 9,
   "metadata": {},
   "outputs": [],
   "source": [
    "mature_mirnas.to_csv('mature-mirnas-from-vmir.csv', index=False)"
   ]
  },
  {
   "cell_type": "code",
   "execution_count": null,
   "metadata": {},
   "outputs": [],
   "source": []
  }
 ],
 "metadata": {
  "kernelspec": {
   "display_name": "Python 3",
   "language": "python",
   "name": "python3"
  },
  "language_info": {
   "codemirror_mode": {
    "name": "ipython",
    "version": 3
   },
   "file_extension": ".py",
   "mimetype": "text/x-python",
   "name": "python",
   "nbconvert_exporter": "python",
   "pygments_lexer": "ipython3",
   "version": "3.8.3"
  }
 },
 "nbformat": 4,
 "nbformat_minor": 4
}
