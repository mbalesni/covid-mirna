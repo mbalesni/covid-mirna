{
 "cells": [
  {
   "cell_type": "code",
   "execution_count": 2,
   "metadata": {},
   "outputs": [],
   "source": [
    "import pandas as pd"
   ]
  },
  {
   "cell_type": "markdown",
   "metadata": {},
   "source": [
    "### Overlap between mature miRNAs"
   ]
  },
  {
   "cell_type": "code",
   "execution_count": 3,
   "metadata": {},
   "outputs": [
    {
     "name": "stdout",
     "output_type": "stream",
     "text": [
      "Full-genome total: 98 (VMIR: 23, miRNAFold: 75)\n"
     ]
    }
   ],
   "source": [
    "full_genome_vmir = pd.read_csv('./full-genome/mature-mirnas-from-vmir.csv')\n",
    "full_genome_mirnafold = pd.read_csv('./full-genome/mature-mirnas-from-mirnafold.csv')\n",
    "full_genome = pd.concat([full_genome_vmir, full_genome_mirnafold], ignore_index=True, verify_integrity=True)\n",
    "\n",
    "print(f'Full-genome total: {len(full_genome)} (VMIR: {len(full_genome_vmir)}, miRNAFold: {len(full_genome_mirnafold)})')"
   ]
  },
  {
   "cell_type": "code",
   "execution_count": 4,
   "metadata": {},
   "outputs": [
    {
     "name": "stdout",
     "output_type": "stream",
     "text": [
      "Non-conserved total: 40 (VMIR: 9, miRNAFold: 31)\n"
     ]
    }
   ],
   "source": [
    "non_conserved_region_vmir = pd.read_csv('./non-conserved-region/mature-mirnas-from-vmir.csv')\n",
    "non_conserved_region_mirnafold = pd.read_csv('./non-conserved-region/mature-mirnas-from-mirnafold.csv')\n",
    "non_conserved = pd.concat([non_conserved_region_vmir, non_conserved_region_mirnafold], ignore_index=True, verify_integrity=True)\n",
    "\n",
    "print(f'Non-conserved total: {len(non_conserved)} (VMIR: {len(non_conserved_region_vmir)}, miRNAFold: {len(non_conserved_region_mirnafold)})')"
   ]
  },
  {
   "cell_type": "code",
   "execution_count": 9,
   "metadata": {},
   "outputs": [
    {
     "name": "stdout",
     "output_type": "stream",
     "text": [
      "Found 18 new sequences in non-conserved region 😅\n"
     ]
    }
   ],
   "source": [
    "full_genome_seqs = set(full_genome.sequence)\n",
    "non_conserved_seqs = set(non_conserved.sequence)\n",
    "\n",
    "combination = full_genome_seqs.union(non_conserved_seqs)\n",
    "\n",
    "print(f'Found {len(combination.difference(full_genome_seqs))} new sequences in non-conserved region 😅')"
   ]
  },
  {
   "cell_type": "code",
   "execution_count": null,
   "metadata": {},
   "outputs": [],
   "source": []
  }
 ],
 "metadata": {
  "kernelspec": {
   "display_name": "Python 3",
   "language": "python",
   "name": "python3"
  },
  "language_info": {
   "codemirror_mode": {
    "name": "ipython",
    "version": 3
   },
   "file_extension": ".py",
   "mimetype": "text/x-python",
   "name": "python",
   "nbconvert_exporter": "python",
   "pygments_lexer": "ipython3",
   "version": "3.8.3"
  }
 },
 "nbformat": 4,
 "nbformat_minor": 4
}
